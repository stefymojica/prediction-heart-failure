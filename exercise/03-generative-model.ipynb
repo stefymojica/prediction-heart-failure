{
 "cells": [
  {
   "cell_type": "markdown",
   "metadata": {},
   "source": [
    "# Import "
   ]
  },
  {
   "cell_type": "code",
   "execution_count": null,
   "metadata": {},
   "outputs": [],
   "source": [
    "import pandas as pd\n",
    "import pymc3 as pm\n",
    "import numpy as np\n",
    "import seaborn as sns\n",
    "import matplotlib.pyplot as plt\n",
    "from scipy import stats"
   ]
  },
  {
   "cell_type": "markdown",
   "metadata": {},
   "source": [
    "# Load Dataset"
   ]
  },
  {
   "cell_type": "code",
   "execution_count": null,
   "metadata": {},
   "outputs": [],
   "source": [
    "df = pd.read_csv('../src/data/heart-failure.csv', sep=',', index_col=False)"
   ]
  },
  {
   "cell_type": "markdown",
   "metadata": {},
   "source": [
    "# Function"
   ]
  },
  {
   "cell_type": "code",
   "execution_count": null,
   "metadata": {},
   "outputs": [],
   "source": [
    "def df_train(number_register):\n",
    "    df_train = df.copy()\n",
    "    df_train = df_train.head(number_register)\n",
    "    return df_train\n",
    "\n",
    "def df_test(number_register):\n",
    "    df_test = df.copy()\n",
    "    df_test = df_test.tail(number_register)\n",
    "    return df_test"
   ]
  },
  {
   "cell_type": "markdown",
   "metadata": {},
   "source": [
    "# Clean Data"
   ]
  },
  {
   "cell_type": "code",
   "execution_count": null,
   "metadata": {},
   "outputs": [],
   "source": [
    "# isnull()\n",
    "df_null = df.isnull().sum()"
   ]
  },
  {
   "cell_type": "code",
   "execution_count": null,
   "metadata": {},
   "outputs": [],
   "source": [
    "# change variable name to \"target\"\n",
    "df = df.rename(columns={'DEATH_EVENT':'target'})"
   ]
  },
  {
   "cell_type": "code",
   "execution_count": null,
   "metadata": {},
   "outputs": [],
   "source": [
    "# change date type\n",
    "df[['age','platelets']] = df[['age','platelets']].astype(int)"
   ]
  },
  {
   "cell_type": "markdown",
   "metadata": {},
   "source": [
    "# Analize data real"
   ]
  },
  {
   "cell_type": "code",
   "execution_count": null,
   "metadata": {},
   "outputs": [],
   "source": [
    "# describe()\n",
    "df.describe()"
   ]
  },
  {
   "cell_type": "code",
   "execution_count": null,
   "metadata": {},
   "outputs": [],
   "source": [
    "matrix = df.corr(method='pearson')\n",
    "n_ticks = len(df.columns)\n",
    "plt.figure(figsize=(20, 9))\n",
    "sns.heatmap(matrix, annot=True, cmap = sns.diverging_palette(188, 143, n=143))\n",
    "plt.xticks(range(n_ticks), df.columns, rotation='vertical')\n",
    "plt.yticks(range(n_ticks), df.columns)\n",
    "_ = plt.title('Matriz de correlacion')\n",
    "plt.show()"
   ]
  },
  {
   "cell_type": "code",
   "execution_count": null,
   "metadata": {},
   "outputs": [],
   "source": [
    "# describe() independient variable\n",
    "df_describe = df.describe().loc[['min','max','std']]\n",
    "df_describe = df_describe[['age','ejection_fraction','serum_creatinine','anaemia','diabetes',\n",
    "                           'high_blood_pressure','sex','smoking']]\n",
    "df_describe"
   ]
  },
  {
   "cell_type": "markdown",
   "metadata": {},
   "source": [
    "# Split train - test data"
   ]
  },
  {
   "cell_type": "code",
   "execution_count": null,
   "metadata": {},
   "outputs": [],
   "source": [
    "df_train = df_train(275)"
   ]
  },
  {
   "cell_type": "code",
   "execution_count": null,
   "metadata": {},
   "outputs": [],
   "source": [
    "df_test = df_test(25)\n",
    "df_test = df_test.drop(['time',\"platelets\",\"creatinine_phosphokinase\",\"serum_sodium\"], axis=1)"
   ]
  },
  {
   "cell_type": "markdown",
   "metadata": {},
   "source": [
    "# Steps to create Generative Bayesian model"
   ]
  },
  {
   "cell_type": "markdown",
   "metadata": {},
   "source": [
    "## Split features and target"
   ]
  },
  {
   "cell_type": "code",
   "execution_count": null,
   "metadata": {},
   "outputs": [],
   "source": [
    "x_real = df_train.drop(['target','time',\"platelets\",\"creatinine_phosphokinase\",\"serum_sodium\"], axis=1)\n",
    "y_real = df_train['target'].to_frame()"
   ]
  },
  {
   "cell_type": "markdown",
   "metadata": {},
   "source": [
    "## Split  binary, numeric\n"
   ]
  },
  {
   "cell_type": "code",
   "execution_count": null,
   "metadata": {},
   "outputs": [],
   "source": [
    "binary_data = x_real[['anaemia','diabetes','high_blood_pressure','sex','smoking']]\n",
    "binary_data.shape"
   ]
  },
  {
   "cell_type": "code",
   "execution_count": null,
   "metadata": {},
   "outputs": [],
   "source": [
    "numeric_age = x_real['age']\n",
    "numeric_age = numeric_age.to_frame()\n",
    "numeric_age.shape"
   ]
  },
  {
   "cell_type": "code",
   "execution_count": null,
   "metadata": {},
   "outputs": [],
   "source": [
    "numeric_eyection = x_real['ejection_fraction']\n",
    "numeric_eyection = numeric_eyection.to_frame()\n",
    "numeric_eyection.shape"
   ]
  },
  {
   "cell_type": "code",
   "execution_count": null,
   "metadata": {},
   "outputs": [],
   "source": [
    "numeric_creatinine = x_real['serum_creatinine']\n",
    "numeric_creatinine = numeric_creatinine.to_frame()\n",
    "numeric_creatinine.shape"
   ]
  },
  {
   "cell_type": "markdown",
   "metadata": {},
   "source": [
    "## Describe DF"
   ]
  },
  {
   "cell_type": "code",
   "execution_count": null,
   "metadata": {},
   "outputs": [],
   "source": [
    "df_real = df.describe()\n",
    "df_real = df_real[['age','ejection_fraction','serum_creatinine','anaemia','diabetes','sex','smoking']]\n",
    "df_real"
   ]
  },
  {
   "cell_type": "markdown",
   "metadata": {},
   "source": [
    "# Generative model"
   ]
  },
  {
   "cell_type": "code",
   "execution_count": null,
   "metadata": {},
   "outputs": [],
   "source": [
    "#generative_model = pm.Model()"
   ]
  },
  {
   "cell_type": "code",
   "execution_count": null,
   "metadata": {},
   "outputs": [],
   "source": [
    "# generate samples"
   ]
  },
  {
   "cell_type": "code",
   "execution_count": null,
   "metadata": {},
   "outputs": [],
   "source": [
    "# data generative (binary generative)"
   ]
  },
  {
   "cell_type": "code",
   "execution_count": null,
   "metadata": {},
   "outputs": [],
   "source": [
    "age_generative = trace['x_age']\n",
    "#age_generative"
   ]
  },
  {
   "cell_type": "code",
   "execution_count": null,
   "metadata": {},
   "outputs": [],
   "source": [
    "ejection_generative = trace['x_ejection']\n",
    "#ejection_generative"
   ]
  },
  {
   "cell_type": "code",
   "execution_count": null,
   "metadata": {},
   "outputs": [],
   "source": [
    "creatinine_generative = trace['x_creatinine']\n",
    "#creatinine_generative"
   ]
  },
  {
   "cell_type": "code",
   "execution_count": null,
   "metadata": {},
   "outputs": [],
   "source": [
    "target_generative = trace['y_target']\n",
    "#target_generative"
   ]
  },
  {
   "cell_type": "code",
   "execution_count": null,
   "metadata": {},
   "outputs": [],
   "source": [
    "# change matrix dimension (binary generative)"
   ]
  },
  {
   "cell_type": "code",
   "execution_count": null,
   "metadata": {},
   "outputs": [],
   "source": [
    "age_generative = age_generative.reshape(-1, age_generative.shape[-1])\n",
    "age_generative = pd.DataFrame(age_generative, columns=['age'])\n",
    "#age_generative"
   ]
  },
  {
   "cell_type": "code",
   "execution_count": null,
   "metadata": {},
   "outputs": [],
   "source": [
    "ejection_generative = ejection_generative.reshape(-1, ejection_generative.shape[-1])\n",
    "ejection_generative = pd.DataFrame(ejection_generative, columns=['ejection_fraction'])\n",
    "#ejection_generative"
   ]
  },
  {
   "cell_type": "code",
   "execution_count": null,
   "metadata": {},
   "outputs": [],
   "source": [
    "creatinine_generative = creatinine_generative.reshape(-1, creatinine_generative.shape[-1])\n",
    "creatinine_generative = pd.DataFrame(creatinine_generative, columns=['serum_creatinine'])\n",
    "#creatinine_generative"
   ]
  },
  {
   "cell_type": "code",
   "execution_count": null,
   "metadata": {},
   "outputs": [],
   "source": [
    "target_generative = target_generative.reshape(-1,1)\n",
    "target_generative = pd.DataFrame(target_generative, columns=['target'])\n",
    "#target_generative"
   ]
  },
  {
   "cell_type": "code",
   "execution_count": null,
   "metadata": {},
   "outputs": [],
   "source": [
    "df_generative = pd.concat([age_generative,creatinine_generative,ejection_generative,binary_generative,target_generative], axis= 1).dropna()\n",
    "df_generative"
   ]
  },
  {
   "cell_type": "code",
   "execution_count": null,
   "metadata": {},
   "outputs": [],
   "source": []
  }
 ],
 "metadata": {
  "kernelspec": {
   "display_name": "Python 3 (ipykernel)",
   "language": "python",
   "name": "python3"
  },
  "language_info": {
   "codemirror_mode": {
    "name": "ipython",
    "version": 3
   },
   "file_extension": ".py",
   "mimetype": "text/x-python",
   "name": "python",
   "nbconvert_exporter": "python",
   "pygments_lexer": "ipython3",
   "version": "3.7.7"
  }
 },
 "nbformat": 4,
 "nbformat_minor": 4
}
