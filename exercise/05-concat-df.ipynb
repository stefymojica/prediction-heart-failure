{
 "cells": [
  {
   "cell_type": "markdown",
   "metadata": {},
   "source": [
    "# Import "
   ]
  },
  {
   "cell_type": "code",
   "execution_count": null,
   "metadata": {},
   "outputs": [],
   "source": [
    "import pandas as pd\n",
    "import pymc3 as pm\n",
    "import numpy as np\n",
    "import seaborn as sns\n",
    "import matplotlib.pyplot as plt\n",
    "from scipy import stats"
   ]
  },
  {
   "cell_type": "markdown",
   "metadata": {},
   "source": [
    "# Load Dataset"
   ]
  },
  {
   "cell_type": "code",
   "execution_count": null,
   "metadata": {},
   "outputs": [],
   "source": [
    "df = pd.read_csv('../src/data/heart-failure.csv', sep=',', index_col=False)"
   ]
  },
  {
   "cell_type": "markdown",
   "metadata": {},
   "source": [
    "# Function"
   ]
  },
  {
   "cell_type": "code",
   "execution_count": null,
   "metadata": {},
   "outputs": [],
   "source": [
    "def df_train(number_register):\n",
    "    df_train = df.copy()\n",
    "    df_train = df_train.head(number_register)\n",
    "    return df_train\n",
    "\n",
    "def df_test(number_register):\n",
    "    df_test = df.copy()\n",
    "    df_test = df_test.tail(number_register)\n",
    "    return df_test"
   ]
  },
  {
   "cell_type": "markdown",
   "metadata": {},
   "source": [
    "# Clean Data"
   ]
  },
  {
   "cell_type": "code",
   "execution_count": null,
   "metadata": {},
   "outputs": [],
   "source": [
    "# isnull()\n",
    "df_null = df.isnull().sum()"
   ]
  },
  {
   "cell_type": "code",
   "execution_count": null,
   "metadata": {},
   "outputs": [],
   "source": [
    "# change variable name to \"target\"\n",
    "df = df.rename(columns={'DEATH_EVENT':'target'})"
   ]
  },
  {
   "cell_type": "code",
   "execution_count": null,
   "metadata": {},
   "outputs": [],
   "source": [
    "# change date type\n",
    "df[['age','platelets']] = df[['age','platelets']].astype(int)"
   ]
  },
  {
   "cell_type": "markdown",
   "metadata": {},
   "source": [
    "# Analize data real"
   ]
  },
  {
   "cell_type": "code",
   "execution_count": null,
   "metadata": {},
   "outputs": [],
   "source": [
    "# describe()\n",
    "df.describe()"
   ]
  },
  {
   "cell_type": "code",
   "execution_count": null,
   "metadata": {},
   "outputs": [],
   "source": [
    "matrix = df.corr(method='pearson')\n",
    "n_ticks = len(df.columns)\n",
    "plt.figure(figsize=(20, 9))\n",
    "sns.heatmap(matrix, annot=True, cmap = sns.diverging_palette(188, 143, n=143))\n",
    "plt.xticks(range(n_ticks), df.columns, rotation='vertical')\n",
    "plt.yticks(range(n_ticks), df.columns)\n",
    "_ = plt.title('Matriz de correlacion')\n",
    "plt.show()"
   ]
  },
  {
   "cell_type": "code",
   "execution_count": null,
   "metadata": {},
   "outputs": [],
   "source": [
    "# describe() independient variable\n",
    "df_describe_m = df.describe().loc[['min','max']]\n",
    "df_describe_m = df_describe_m[['age','ejection_fraction','serum_creatinine','anaemia','diabetes',\n",
    "                           'high_blood_pressure','sex','smoking','target']]\n",
    "df_describe_m"
   ]
  },
  {
   "cell_type": "markdown",
   "metadata": {},
   "source": [
    "# Split train - test data"
   ]
  },
  {
   "cell_type": "code",
   "execution_count": null,
   "metadata": {},
   "outputs": [],
   "source": [
    "df_train = df_train(275)"
   ]
  },
  {
   "cell_type": "code",
   "execution_count": null,
   "metadata": {},
   "outputs": [],
   "source": [
    "df_test = df_test(25)\n",
    "df_test = df_test.drop(['time',\"platelets\",\"creatinine_phosphokinase\",\"serum_sodium\"], axis=1)"
   ]
  },
  {
   "cell_type": "markdown",
   "metadata": {},
   "source": [
    "# Steps to create Generative Bayesian model"
   ]
  },
  {
   "cell_type": "markdown",
   "metadata": {},
   "source": [
    "## Split features and target"
   ]
  },
  {
   "cell_type": "code",
   "execution_count": null,
   "metadata": {},
   "outputs": [],
   "source": [
    "x_real = df_train.drop(['target','time',\"platelets\",\"creatinine_phosphokinase\",\"serum_sodium\"], axis=1)\n",
    "y_real = df_train['target'].to_frame()"
   ]
  },
  {
   "cell_type": "markdown",
   "metadata": {},
   "source": [
    "## Split  binary, numeric\n"
   ]
  },
  {
   "cell_type": "code",
   "execution_count": null,
   "metadata": {},
   "outputs": [],
   "source": [
    "binary_data = x_real[['anaemia','diabetes','high_blood_pressure','sex','smoking']]\n",
    "binary_data.shape"
   ]
  },
  {
   "cell_type": "code",
   "execution_count": null,
   "metadata": {},
   "outputs": [],
   "source": [
    "numeric_age = x_real['age']\n",
    "numeric_age = numeric_age.to_frame()\n",
    "numeric_age.shape"
   ]
  },
  {
   "cell_type": "code",
   "execution_count": null,
   "metadata": {},
   "outputs": [],
   "source": [
    "numeric_eyection = x_real['ejection_fraction']\n",
    "numeric_eyection = numeric_eyection.to_frame()\n",
    "numeric_eyection.shape"
   ]
  },
  {
   "cell_type": "code",
   "execution_count": null,
   "metadata": {},
   "outputs": [],
   "source": [
    "numeric_creatinine = x_real['serum_creatinine']\n",
    "numeric_creatinine = numeric_creatinine.to_frame()\n",
    "numeric_creatinine.shape"
   ]
  },
  {
   "cell_type": "markdown",
   "metadata": {},
   "source": [
    "## Describe DF\n"
   ]
  },
  {
   "cell_type": "code",
   "execution_count": null,
   "metadata": {},
   "outputs": [],
   "source": [
    "df_real = df.describe()\n",
    "df_real = df_real[['age','ejection_fraction','serum_creatinine','anaemia','diabetes','high_blood_pressure','sex','smoking']]\n",
    "df_real"
   ]
  },
  {
   "cell_type": "markdown",
   "metadata": {},
   "source": [
    "# Generative model"
   ]
  },
  {
   "cell_type": "code",
   "execution_count": null,
   "metadata": {},
   "outputs": [],
   "source": [
    "generative_model = pm.Model()\n",
    "with generative_model:\n",
    "    x_binary = pm.Bernoulli('x_binary',p=0.5,shape=binary_data.shape)\n",
    "    x_age = pm.Normal('x_age',mu=numeric_age.mean(),sd=12,shape=numeric_age.shape, observed=numeric_age)\n",
    "    x_ejection = pm.HalfNormal('x_ejection',sd=20,shape=numeric_eyection.shape, observed=numeric_eyection)\n",
    "    x_creatinine = pm.TruncatedNormal('x_creatinine',mu=numeric_creatinine.mean(),sigma=2,lower=0.5,upper=10,shape=numeric_creatinine.shape,observed=numeric_creatinine)\n",
    "    \n",
    "    p_binary = binary_data\n",
    "    p_age = pm.invlogit(numeric_age)\n",
    "    p_ejection = pm.invlogit(numeric_eyection)\n",
    "    p_creatinine = pm.invlogit(numeric_creatinine)\n",
    "    \n",
    "    p = pm.math.concatenate([p_binary, p_age,p_ejection,p_creatinine], axis=1)\n",
    "    \n",
    "    y_target = pm.Bernoulli('y_target',p=p, observed=y_real)"
   ]
  },
  {
   "cell_type": "code",
   "execution_count": null,
   "metadata": {},
   "outputs": [],
   "source": [
    "with generative_model:\n",
    "    trace = pm.sample_posterior_predictive(\n",
    "    'trace',\n",
    "    samples=10,\n",
    "    var_names=[\"x_binary\",\"x_age\",\"x_ejection\",\"x_creatinine\",\"y_target\"])"
   ]
  },
  {
   "cell_type": "code",
   "execution_count": null,
   "metadata": {},
   "outputs": [],
   "source": [
    "binary_generative = trace['x_binary']\n",
    "#binary_generative"
   ]
  },
  {
   "cell_type": "code",
   "execution_count": null,
   "metadata": {},
   "outputs": [],
   "source": [
    "age_generative = trace['x_age']\n",
    "#age_generative"
   ]
  },
  {
   "cell_type": "code",
   "execution_count": null,
   "metadata": {},
   "outputs": [],
   "source": [
    "ejection_generative = trace['x_ejection']\n",
    "#ejection_generative"
   ]
  },
  {
   "cell_type": "code",
   "execution_count": null,
   "metadata": {},
   "outputs": [],
   "source": [
    "creatinine_generative = trace['x_creatinine']\n",
    "#creatinine_generative"
   ]
  },
  {
   "cell_type": "code",
   "execution_count": null,
   "metadata": {},
   "outputs": [],
   "source": [
    "target_generative = trace['y_target']\n",
    "target_generative.shape"
   ]
  },
  {
   "cell_type": "code",
   "execution_count": null,
   "metadata": {},
   "outputs": [],
   "source": [
    "binary_generative = binary_generative.reshape(-1, binary_generative.shape[-1])\n",
    "binary_generative = pd.DataFrame(binary_generative, columns=['anaemia','diabetes','high_blood_pressure','sex','smoking'])\n",
    "#binary_generative"
   ]
  },
  {
   "cell_type": "code",
   "execution_count": null,
   "metadata": {},
   "outputs": [],
   "source": [
    "age_generative = age_generative.reshape(-1, age_generative.shape[-1])\n",
    "age_generative = pd.DataFrame(age_generative, columns=['age'])\n",
    "#age_generative"
   ]
  },
  {
   "cell_type": "code",
   "execution_count": null,
   "metadata": {},
   "outputs": [],
   "source": [
    "ejection_generative = ejection_generative.reshape(-1, ejection_generative.shape[-1])\n",
    "ejection_generative = pd.DataFrame(ejection_generative, columns=['ejection_fraction'])\n",
    "#ejection_generative"
   ]
  },
  {
   "cell_type": "code",
   "execution_count": null,
   "metadata": {},
   "outputs": [],
   "source": [
    "creatinine_generative = creatinine_generative.reshape(-1, creatinine_generative.shape[-1])\n",
    "creatinine_generative = pd.DataFrame(creatinine_generative, columns=['serum_creatinine'])\n",
    "#creatinine_generative"
   ]
  },
  {
   "cell_type": "code",
   "execution_count": null,
   "metadata": {},
   "outputs": [],
   "source": [
    "target_generative = target_generative.reshape(-1,1)\n",
    "target_generative = pd.DataFrame(target_generative, columns=['target'])\n",
    "\n",
    "#target_generative"
   ]
  },
  {
   "cell_type": "code",
   "execution_count": null,
   "metadata": {},
   "outputs": [],
   "source": [
    "df_generative = pd.concat([age_generative,creatinine_generative,ejection_generative,binary_generative,target_generative], axis= 1).dropna()\n",
    "df_generative"
   ]
  },
  {
   "cell_type": "markdown",
   "metadata": {},
   "source": [
    "# Analyze generic data"
   ]
  },
  {
   "cell_type": "code",
   "execution_count": null,
   "metadata": {},
   "outputs": [],
   "source": [
    "df_generative.describe()"
   ]
  },
  {
   "cell_type": "code",
   "execution_count": null,
   "metadata": {},
   "outputs": [],
   "source": [
    "df_describe = df.describe()\n",
    "df_describe = df_describe[['age','ejection_fraction','serum_creatinine','anaemia','diabetes',\n",
    "                           'high_blood_pressure','sex','smoking','target']]\n",
    "#df_describe"
   ]
  },
  {
   "cell_type": "markdown",
   "metadata": {},
   "source": [
    "# Concat"
   ]
  },
  {
   "cell_type": "code",
   "execution_count": null,
   "metadata": {},
   "outputs": [],
   "source": [
    "df_real = pd.concat([x_real,y_real],axis=1)\n",
    "#df_real"
   ]
  },
  {
   "cell_type": "code",
   "execution_count": null,
   "metadata": {},
   "outputs": [],
   "source": [
    "df_generative = df_generative[['age','anaemia','diabetes','ejection_fraction','high_blood_pressure','serum_creatinine','sex','smoking','target']].astype(int)\n",
    "#df_generative"
   ]
  },
  {
   "cell_type": "code",
   "execution_count": null,
   "metadata": {},
   "outputs": [],
   "source": [
    "# take generative data for test data\n",
    "\n",
    "df_test_generative = df_generative.tail(50)\n",
    "#df_test_generative.head()"
   ]
  },
  {
   "cell_type": "code",
   "execution_count": null,
   "metadata": {},
   "outputs": [],
   "source": [
    "df_generative = df_generative.head(2700)"
   ]
  },
  {
   "cell_type": "code",
   "execution_count": null,
   "metadata": {
    "scrolled": true
   },
   "outputs": [],
   "source": [
    "df = pd.concat([df_real,df_generative])\n",
    "#df_train = df.to_csv('train_heart_failure.csv', index=False)"
   ]
  },
  {
   "cell_type": "code",
   "execution_count": null,
   "metadata": {},
   "outputs": [],
   "source": [
    "df_test = pd.concat([df_test,df_test_generative])\n",
    "#df_test = df_test.to_csv('test_heart_failure.csv', index=False)"
   ]
  }
 ],
 "metadata": {
  "kernelspec": {
   "display_name": "Python 3 (ipykernel)",
   "language": "python",
   "name": "python3"
  },
  "language_info": {
   "codemirror_mode": {
    "name": "ipython",
    "version": 3
   },
   "file_extension": ".py",
   "mimetype": "text/x-python",
   "name": "python",
   "nbconvert_exporter": "python",
   "pygments_lexer": "ipython3",
   "version": "3.7.7"
  }
 },
 "nbformat": 4,
 "nbformat_minor": 4
}
