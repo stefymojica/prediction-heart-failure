{
 "cells": [
  {
   "cell_type": "code",
   "execution_count": 1,
   "metadata": {
    "scrolled": true
   },
   "outputs": [],
   "source": [
    "import pandas as pd\n",
    "import pymc3 as pm\n",
    "import numpy as np\n",
    "import matplotlib.pyplot as plt"
   ]
  },
  {
   "cell_type": "markdown",
   "metadata": {},
   "source": [
    "# Load Dataset"
   ]
  },
  {
   "cell_type": "code",
   "execution_count": 2,
   "metadata": {},
   "outputs": [
    {
     "data": {
      "text/html": [
       "<div>\n",
       "<style scoped>\n",
       "    .dataframe tbody tr th:only-of-type {\n",
       "        vertical-align: middle;\n",
       "    }\n",
       "\n",
       "    .dataframe tbody tr th {\n",
       "        vertical-align: top;\n",
       "    }\n",
       "\n",
       "    .dataframe thead th {\n",
       "        text-align: right;\n",
       "    }\n",
       "</style>\n",
       "<table border=\"1\" class=\"dataframe\">\n",
       "  <thead>\n",
       "    <tr style=\"text-align: right;\">\n",
       "      <th></th>\n",
       "      <th>age</th>\n",
       "      <th>anaemia</th>\n",
       "      <th>creatinine_phosphokinase</th>\n",
       "      <th>diabetes</th>\n",
       "      <th>ejection_fraction</th>\n",
       "      <th>high_blood_pressure</th>\n",
       "      <th>platelets</th>\n",
       "      <th>serum_creatinine</th>\n",
       "      <th>serum_sodium</th>\n",
       "      <th>sex</th>\n",
       "      <th>smoking</th>\n",
       "      <th>time</th>\n",
       "      <th>DEATH_EVENT</th>\n",
       "    </tr>\n",
       "  </thead>\n",
       "  <tbody>\n",
       "    <tr>\n",
       "      <th>0</th>\n",
       "      <td>75.0</td>\n",
       "      <td>0</td>\n",
       "      <td>582</td>\n",
       "      <td>0</td>\n",
       "      <td>20</td>\n",
       "      <td>1</td>\n",
       "      <td>265000.00</td>\n",
       "      <td>1.9</td>\n",
       "      <td>130</td>\n",
       "      <td>1</td>\n",
       "      <td>0</td>\n",
       "      <td>4</td>\n",
       "      <td>1</td>\n",
       "    </tr>\n",
       "    <tr>\n",
       "      <th>1</th>\n",
       "      <td>55.0</td>\n",
       "      <td>0</td>\n",
       "      <td>7861</td>\n",
       "      <td>0</td>\n",
       "      <td>38</td>\n",
       "      <td>0</td>\n",
       "      <td>263358.03</td>\n",
       "      <td>1.1</td>\n",
       "      <td>136</td>\n",
       "      <td>1</td>\n",
       "      <td>0</td>\n",
       "      <td>6</td>\n",
       "      <td>1</td>\n",
       "    </tr>\n",
       "    <tr>\n",
       "      <th>2</th>\n",
       "      <td>65.0</td>\n",
       "      <td>0</td>\n",
       "      <td>146</td>\n",
       "      <td>0</td>\n",
       "      <td>20</td>\n",
       "      <td>0</td>\n",
       "      <td>162000.00</td>\n",
       "      <td>1.3</td>\n",
       "      <td>129</td>\n",
       "      <td>1</td>\n",
       "      <td>1</td>\n",
       "      <td>7</td>\n",
       "      <td>1</td>\n",
       "    </tr>\n",
       "    <tr>\n",
       "      <th>3</th>\n",
       "      <td>50.0</td>\n",
       "      <td>1</td>\n",
       "      <td>111</td>\n",
       "      <td>0</td>\n",
       "      <td>20</td>\n",
       "      <td>0</td>\n",
       "      <td>210000.00</td>\n",
       "      <td>1.9</td>\n",
       "      <td>137</td>\n",
       "      <td>1</td>\n",
       "      <td>0</td>\n",
       "      <td>7</td>\n",
       "      <td>1</td>\n",
       "    </tr>\n",
       "    <tr>\n",
       "      <th>4</th>\n",
       "      <td>65.0</td>\n",
       "      <td>1</td>\n",
       "      <td>160</td>\n",
       "      <td>1</td>\n",
       "      <td>20</td>\n",
       "      <td>0</td>\n",
       "      <td>327000.00</td>\n",
       "      <td>2.7</td>\n",
       "      <td>116</td>\n",
       "      <td>0</td>\n",
       "      <td>0</td>\n",
       "      <td>8</td>\n",
       "      <td>1</td>\n",
       "    </tr>\n",
       "    <tr>\n",
       "      <th>...</th>\n",
       "      <td>...</td>\n",
       "      <td>...</td>\n",
       "      <td>...</td>\n",
       "      <td>...</td>\n",
       "      <td>...</td>\n",
       "      <td>...</td>\n",
       "      <td>...</td>\n",
       "      <td>...</td>\n",
       "      <td>...</td>\n",
       "      <td>...</td>\n",
       "      <td>...</td>\n",
       "      <td>...</td>\n",
       "      <td>...</td>\n",
       "    </tr>\n",
       "    <tr>\n",
       "      <th>294</th>\n",
       "      <td>62.0</td>\n",
       "      <td>0</td>\n",
       "      <td>61</td>\n",
       "      <td>1</td>\n",
       "      <td>38</td>\n",
       "      <td>1</td>\n",
       "      <td>155000.00</td>\n",
       "      <td>1.1</td>\n",
       "      <td>143</td>\n",
       "      <td>1</td>\n",
       "      <td>1</td>\n",
       "      <td>270</td>\n",
       "      <td>0</td>\n",
       "    </tr>\n",
       "    <tr>\n",
       "      <th>295</th>\n",
       "      <td>55.0</td>\n",
       "      <td>0</td>\n",
       "      <td>1820</td>\n",
       "      <td>0</td>\n",
       "      <td>38</td>\n",
       "      <td>0</td>\n",
       "      <td>270000.00</td>\n",
       "      <td>1.2</td>\n",
       "      <td>139</td>\n",
       "      <td>0</td>\n",
       "      <td>0</td>\n",
       "      <td>271</td>\n",
       "      <td>0</td>\n",
       "    </tr>\n",
       "    <tr>\n",
       "      <th>296</th>\n",
       "      <td>45.0</td>\n",
       "      <td>0</td>\n",
       "      <td>2060</td>\n",
       "      <td>1</td>\n",
       "      <td>60</td>\n",
       "      <td>0</td>\n",
       "      <td>742000.00</td>\n",
       "      <td>0.8</td>\n",
       "      <td>138</td>\n",
       "      <td>0</td>\n",
       "      <td>0</td>\n",
       "      <td>278</td>\n",
       "      <td>0</td>\n",
       "    </tr>\n",
       "    <tr>\n",
       "      <th>297</th>\n",
       "      <td>45.0</td>\n",
       "      <td>0</td>\n",
       "      <td>2413</td>\n",
       "      <td>0</td>\n",
       "      <td>38</td>\n",
       "      <td>0</td>\n",
       "      <td>140000.00</td>\n",
       "      <td>1.4</td>\n",
       "      <td>140</td>\n",
       "      <td>1</td>\n",
       "      <td>1</td>\n",
       "      <td>280</td>\n",
       "      <td>0</td>\n",
       "    </tr>\n",
       "    <tr>\n",
       "      <th>298</th>\n",
       "      <td>50.0</td>\n",
       "      <td>0</td>\n",
       "      <td>196</td>\n",
       "      <td>0</td>\n",
       "      <td>45</td>\n",
       "      <td>0</td>\n",
       "      <td>395000.00</td>\n",
       "      <td>1.6</td>\n",
       "      <td>136</td>\n",
       "      <td>1</td>\n",
       "      <td>1</td>\n",
       "      <td>285</td>\n",
       "      <td>0</td>\n",
       "    </tr>\n",
       "  </tbody>\n",
       "</table>\n",
       "<p>299 rows × 13 columns</p>\n",
       "</div>"
      ],
      "text/plain": [
       "      age  anaemia  creatinine_phosphokinase  diabetes  ejection_fraction  \\\n",
       "0    75.0        0                       582         0                 20   \n",
       "1    55.0        0                      7861         0                 38   \n",
       "2    65.0        0                       146         0                 20   \n",
       "3    50.0        1                       111         0                 20   \n",
       "4    65.0        1                       160         1                 20   \n",
       "..    ...      ...                       ...       ...                ...   \n",
       "294  62.0        0                        61         1                 38   \n",
       "295  55.0        0                      1820         0                 38   \n",
       "296  45.0        0                      2060         1                 60   \n",
       "297  45.0        0                      2413         0                 38   \n",
       "298  50.0        0                       196         0                 45   \n",
       "\n",
       "     high_blood_pressure  platelets  serum_creatinine  serum_sodium  sex  \\\n",
       "0                      1  265000.00               1.9           130    1   \n",
       "1                      0  263358.03               1.1           136    1   \n",
       "2                      0  162000.00               1.3           129    1   \n",
       "3                      0  210000.00               1.9           137    1   \n",
       "4                      0  327000.00               2.7           116    0   \n",
       "..                   ...        ...               ...           ...  ...   \n",
       "294                    1  155000.00               1.1           143    1   \n",
       "295                    0  270000.00               1.2           139    0   \n",
       "296                    0  742000.00               0.8           138    0   \n",
       "297                    0  140000.00               1.4           140    1   \n",
       "298                    0  395000.00               1.6           136    1   \n",
       "\n",
       "     smoking  time  DEATH_EVENT  \n",
       "0          0     4            1  \n",
       "1          0     6            1  \n",
       "2          1     7            1  \n",
       "3          0     7            1  \n",
       "4          0     8            1  \n",
       "..       ...   ...          ...  \n",
       "294        1   270            0  \n",
       "295        0   271            0  \n",
       "296        0   278            0  \n",
       "297        1   280            0  \n",
       "298        1   285            0  \n",
       "\n",
       "[299 rows x 13 columns]"
      ]
     },
     "execution_count": 2,
     "metadata": {},
     "output_type": "execute_result"
    }
   ],
   "source": [
    "df = pd.read_csv('./heart-failure.csv', sep=',', index_col=False)\n",
    "df"
   ]
  },
  {
   "cell_type": "markdown",
   "metadata": {},
   "source": [
    "# Function"
   ]
  },
  {
   "cell_type": "code",
   "execution_count": 3,
   "metadata": {},
   "outputs": [],
   "source": [
    "def df_train(number_register):\n",
    "    df_train = df.copy()\n",
    "    df_train = df_train.head(number_register)\n",
    "    return df_train\n",
    "\n",
    "def df_test(number_register):\n",
    "    df_test = df.copy()\n",
    "    df_test = df_test.tail(number_register)\n",
    "    return df_test\n",
    "\n",
    "def min_value(column_name):\n",
    "    min_value = df[column_name].min()\n",
    "    print(f\"El valor min {column_name} es {min_value}\")\n",
    "    return min_value\n",
    "\n",
    "def max_value(column_name):\n",
    "    max_value = df[column_name].max()\n",
    "    print(f\"El valor max {column_name} es {max_value}\")\n",
    "    return max_value"
   ]
  },
  {
   "cell_type": "markdown",
   "metadata": {},
   "source": [
    "# Clean Data"
   ]
  },
  {
   "cell_type": "code",
   "execution_count": 4,
   "metadata": {},
   "outputs": [
    {
     "data": {
      "text/plain": [
       "age                         0\n",
       "anaemia                     0\n",
       "creatinine_phosphokinase    0\n",
       "diabetes                    0\n",
       "ejection_fraction           0\n",
       "high_blood_pressure         0\n",
       "platelets                   0\n",
       "serum_creatinine            0\n",
       "serum_sodium                0\n",
       "sex                         0\n",
       "smoking                     0\n",
       "time                        0\n",
       "DEATH_EVENT                 0\n",
       "dtype: int64"
      ]
     },
     "execution_count": 4,
     "metadata": {},
     "output_type": "execute_result"
    }
   ],
   "source": [
    "# Nulos en las columnas\n",
    "df_null = df.isnull().sum()\n",
    "df_null"
   ]
  },
  {
   "cell_type": "code",
   "execution_count": 5,
   "metadata": {},
   "outputs": [],
   "source": [
    "# rename target variable\n",
    "df = df.rename(columns={'DEATH_EVENT':'target'})"
   ]
  },
  {
   "cell_type": "markdown",
   "metadata": {},
   "source": [
    "## Analize data"
   ]
  },
  {
   "cell_type": "markdown",
   "metadata": {},
   "source": [
    "### Numeric columns"
   ]
  },
  {
   "cell_type": "code",
   "execution_count": 6,
   "metadata": {},
   "outputs": [
    {
     "name": "stdout",
     "output_type": "stream",
     "text": [
      "El valor min age es 40.0\n",
      "El valor max age es 95.0\n"
     ]
    }
   ],
   "source": [
    "min_value_age = min_value('age')\n",
    "max_value_age = max_value('age')"
   ]
  },
  {
   "cell_type": "code",
   "execution_count": 7,
   "metadata": {},
   "outputs": [
    {
     "name": "stdout",
     "output_type": "stream",
     "text": [
      "El valor min creatinine_phosphokinase es 23\n",
      "El valor max creatinine_phosphokinase es 7861\n"
     ]
    }
   ],
   "source": [
    "min_value_creatine = min_value('creatinine_phosphokinase')\n",
    "max_value_creatine = max_value('creatinine_phosphokinase')"
   ]
  },
  {
   "cell_type": "code",
   "execution_count": 8,
   "metadata": {},
   "outputs": [
    {
     "name": "stdout",
     "output_type": "stream",
     "text": [
      "El valor min ejection_fraction es 14\n",
      "El valor max ejection_fraction es 80\n"
     ]
    }
   ],
   "source": [
    "min_value_ejection = min_value('ejection_fraction')\n",
    "max_value_ejection = max_value('ejection_fraction')"
   ]
  },
  {
   "cell_type": "code",
   "execution_count": 9,
   "metadata": {},
   "outputs": [
    {
     "name": "stdout",
     "output_type": "stream",
     "text": [
      "El valor min platelets es 25100.0\n",
      "El valor max platelets es 850000.0\n"
     ]
    }
   ],
   "source": [
    "min_value_platelets = min_value('platelets')\n",
    "max_value_platelets = max_value('platelets')"
   ]
  },
  {
   "cell_type": "code",
   "execution_count": 10,
   "metadata": {},
   "outputs": [
    {
     "name": "stdout",
     "output_type": "stream",
     "text": [
      "El valor min serum_creatinine es 0.5\n",
      "El valor max serum_creatinine es 9.4\n"
     ]
    }
   ],
   "source": [
    "min_value_creatinine = min_value('serum_creatinine')\n",
    "max_value_creatinine = max_value('serum_creatinine')"
   ]
  },
  {
   "cell_type": "code",
   "execution_count": 11,
   "metadata": {},
   "outputs": [
    {
     "name": "stdout",
     "output_type": "stream",
     "text": [
      "El valor min serum_sodium es 113\n",
      "El valor max serum_sodium es 148\n"
     ]
    }
   ],
   "source": [
    "min_value_sodium = min_value('serum_sodium')\n",
    "max_value_sodium = max_value('serum_sodium')"
   ]
  },
  {
   "cell_type": "code",
   "execution_count": 12,
   "metadata": {},
   "outputs": [
    {
     "name": "stdout",
     "output_type": "stream",
     "text": [
      "El valor min time es 4\n",
      "El valor max time es 285\n"
     ]
    }
   ],
   "source": [
    "min_value_time = min_value('time')\n",
    "max_value_time = max_value('time')"
   ]
  },
  {
   "cell_type": "markdown",
   "metadata": {},
   "source": [
    "### Binary columns"
   ]
  },
  {
   "cell_type": "code",
   "execution_count": 13,
   "metadata": {},
   "outputs": [
    {
     "name": "stdout",
     "output_type": "stream",
     "text": [
      "El valor min anaemia es 0\n",
      "El valor max anaemia es 1\n"
     ]
    }
   ],
   "source": [
    "min_value_anemia = min_value('anaemia')\n",
    "max_value_anemia = max_value('anaemia')"
   ]
  },
  {
   "cell_type": "code",
   "execution_count": 14,
   "metadata": {},
   "outputs": [
    {
     "name": "stdout",
     "output_type": "stream",
     "text": [
      "El valor min diabetes es 0\n",
      "El valor max diabetes es 1\n"
     ]
    }
   ],
   "source": [
    "min_value_diabetes = min_value('diabetes')\n",
    "max_value_diabetes = max_value('diabetes')"
   ]
  },
  {
   "cell_type": "code",
   "execution_count": 15,
   "metadata": {},
   "outputs": [
    {
     "name": "stdout",
     "output_type": "stream",
     "text": [
      "El valor min high_blood_pressure es 0\n",
      "El valor max high_blood_pressure es 1\n"
     ]
    }
   ],
   "source": [
    "min_value_pressure = min_value('high_blood_pressure')\n",
    "max_value_pressure = max_value('high_blood_pressure')"
   ]
  },
  {
   "cell_type": "code",
   "execution_count": 16,
   "metadata": {},
   "outputs": [
    {
     "name": "stdout",
     "output_type": "stream",
     "text": [
      "El valor min sex es 0\n",
      "El valor max sex es 1\n"
     ]
    }
   ],
   "source": [
    "min_value_sex = min_value('sex')\n",
    "max_value_sex = max_value('sex')"
   ]
  },
  {
   "cell_type": "code",
   "execution_count": 17,
   "metadata": {},
   "outputs": [
    {
     "name": "stdout",
     "output_type": "stream",
     "text": [
      "El valor min smoking es 0\n",
      "El valor max smoking es 1\n"
     ]
    }
   ],
   "source": [
    "min_value_smoking = min_value('smoking')\n",
    "max_value_smoking = max_value('smoking')"
   ]
  },
  {
   "cell_type": "markdown",
   "metadata": {},
   "source": [
    "# Split train - test data"
   ]
  },
  {
   "cell_type": "code",
   "execution_count": 18,
   "metadata": {},
   "outputs": [
    {
     "data": {
      "text/html": [
       "<div>\n",
       "<style scoped>\n",
       "    .dataframe tbody tr th:only-of-type {\n",
       "        vertical-align: middle;\n",
       "    }\n",
       "\n",
       "    .dataframe tbody tr th {\n",
       "        vertical-align: top;\n",
       "    }\n",
       "\n",
       "    .dataframe thead th {\n",
       "        text-align: right;\n",
       "    }\n",
       "</style>\n",
       "<table border=\"1\" class=\"dataframe\">\n",
       "  <thead>\n",
       "    <tr style=\"text-align: right;\">\n",
       "      <th></th>\n",
       "      <th>age</th>\n",
       "      <th>anaemia</th>\n",
       "      <th>creatinine_phosphokinase</th>\n",
       "      <th>diabetes</th>\n",
       "      <th>ejection_fraction</th>\n",
       "      <th>high_blood_pressure</th>\n",
       "      <th>platelets</th>\n",
       "      <th>serum_creatinine</th>\n",
       "      <th>serum_sodium</th>\n",
       "      <th>sex</th>\n",
       "      <th>smoking</th>\n",
       "      <th>time</th>\n",
       "      <th>target</th>\n",
       "    </tr>\n",
       "  </thead>\n",
       "  <tbody>\n",
       "    <tr>\n",
       "      <th>0</th>\n",
       "      <td>75.0</td>\n",
       "      <td>0</td>\n",
       "      <td>582</td>\n",
       "      <td>0</td>\n",
       "      <td>20</td>\n",
       "      <td>1</td>\n",
       "      <td>265000.00</td>\n",
       "      <td>1.9</td>\n",
       "      <td>130</td>\n",
       "      <td>1</td>\n",
       "      <td>0</td>\n",
       "      <td>4</td>\n",
       "      <td>1</td>\n",
       "    </tr>\n",
       "    <tr>\n",
       "      <th>1</th>\n",
       "      <td>55.0</td>\n",
       "      <td>0</td>\n",
       "      <td>7861</td>\n",
       "      <td>0</td>\n",
       "      <td>38</td>\n",
       "      <td>0</td>\n",
       "      <td>263358.03</td>\n",
       "      <td>1.1</td>\n",
       "      <td>136</td>\n",
       "      <td>1</td>\n",
       "      <td>0</td>\n",
       "      <td>6</td>\n",
       "      <td>1</td>\n",
       "    </tr>\n",
       "    <tr>\n",
       "      <th>2</th>\n",
       "      <td>65.0</td>\n",
       "      <td>0</td>\n",
       "      <td>146</td>\n",
       "      <td>0</td>\n",
       "      <td>20</td>\n",
       "      <td>0</td>\n",
       "      <td>162000.00</td>\n",
       "      <td>1.3</td>\n",
       "      <td>129</td>\n",
       "      <td>1</td>\n",
       "      <td>1</td>\n",
       "      <td>7</td>\n",
       "      <td>1</td>\n",
       "    </tr>\n",
       "    <tr>\n",
       "      <th>3</th>\n",
       "      <td>50.0</td>\n",
       "      <td>1</td>\n",
       "      <td>111</td>\n",
       "      <td>0</td>\n",
       "      <td>20</td>\n",
       "      <td>0</td>\n",
       "      <td>210000.00</td>\n",
       "      <td>1.9</td>\n",
       "      <td>137</td>\n",
       "      <td>1</td>\n",
       "      <td>0</td>\n",
       "      <td>7</td>\n",
       "      <td>1</td>\n",
       "    </tr>\n",
       "    <tr>\n",
       "      <th>4</th>\n",
       "      <td>65.0</td>\n",
       "      <td>1</td>\n",
       "      <td>160</td>\n",
       "      <td>1</td>\n",
       "      <td>20</td>\n",
       "      <td>0</td>\n",
       "      <td>327000.00</td>\n",
       "      <td>2.7</td>\n",
       "      <td>116</td>\n",
       "      <td>0</td>\n",
       "      <td>0</td>\n",
       "      <td>8</td>\n",
       "      <td>1</td>\n",
       "    </tr>\n",
       "    <tr>\n",
       "      <th>...</th>\n",
       "      <td>...</td>\n",
       "      <td>...</td>\n",
       "      <td>...</td>\n",
       "      <td>...</td>\n",
       "      <td>...</td>\n",
       "      <td>...</td>\n",
       "      <td>...</td>\n",
       "      <td>...</td>\n",
       "      <td>...</td>\n",
       "      <td>...</td>\n",
       "      <td>...</td>\n",
       "      <td>...</td>\n",
       "      <td>...</td>\n",
       "    </tr>\n",
       "    <tr>\n",
       "      <th>270</th>\n",
       "      <td>44.0</td>\n",
       "      <td>0</td>\n",
       "      <td>582</td>\n",
       "      <td>1</td>\n",
       "      <td>30</td>\n",
       "      <td>1</td>\n",
       "      <td>263358.03</td>\n",
       "      <td>1.6</td>\n",
       "      <td>130</td>\n",
       "      <td>1</td>\n",
       "      <td>1</td>\n",
       "      <td>244</td>\n",
       "      <td>0</td>\n",
       "    </tr>\n",
       "    <tr>\n",
       "      <th>271</th>\n",
       "      <td>51.0</td>\n",
       "      <td>0</td>\n",
       "      <td>582</td>\n",
       "      <td>1</td>\n",
       "      <td>40</td>\n",
       "      <td>0</td>\n",
       "      <td>221000.00</td>\n",
       "      <td>0.9</td>\n",
       "      <td>134</td>\n",
       "      <td>0</td>\n",
       "      <td>0</td>\n",
       "      <td>244</td>\n",
       "      <td>0</td>\n",
       "    </tr>\n",
       "    <tr>\n",
       "      <th>272</th>\n",
       "      <td>67.0</td>\n",
       "      <td>0</td>\n",
       "      <td>213</td>\n",
       "      <td>0</td>\n",
       "      <td>38</td>\n",
       "      <td>0</td>\n",
       "      <td>215000.00</td>\n",
       "      <td>1.2</td>\n",
       "      <td>133</td>\n",
       "      <td>0</td>\n",
       "      <td>0</td>\n",
       "      <td>245</td>\n",
       "      <td>0</td>\n",
       "    </tr>\n",
       "    <tr>\n",
       "      <th>273</th>\n",
       "      <td>42.0</td>\n",
       "      <td>0</td>\n",
       "      <td>64</td>\n",
       "      <td>0</td>\n",
       "      <td>40</td>\n",
       "      <td>0</td>\n",
       "      <td>189000.00</td>\n",
       "      <td>0.7</td>\n",
       "      <td>140</td>\n",
       "      <td>1</td>\n",
       "      <td>0</td>\n",
       "      <td>245</td>\n",
       "      <td>0</td>\n",
       "    </tr>\n",
       "    <tr>\n",
       "      <th>274</th>\n",
       "      <td>60.0</td>\n",
       "      <td>1</td>\n",
       "      <td>257</td>\n",
       "      <td>1</td>\n",
       "      <td>30</td>\n",
       "      <td>0</td>\n",
       "      <td>150000.00</td>\n",
       "      <td>1.0</td>\n",
       "      <td>137</td>\n",
       "      <td>1</td>\n",
       "      <td>1</td>\n",
       "      <td>245</td>\n",
       "      <td>0</td>\n",
       "    </tr>\n",
       "  </tbody>\n",
       "</table>\n",
       "<p>275 rows × 13 columns</p>\n",
       "</div>"
      ],
      "text/plain": [
       "      age  anaemia  creatinine_phosphokinase  diabetes  ejection_fraction  \\\n",
       "0    75.0        0                       582         0                 20   \n",
       "1    55.0        0                      7861         0                 38   \n",
       "2    65.0        0                       146         0                 20   \n",
       "3    50.0        1                       111         0                 20   \n",
       "4    65.0        1                       160         1                 20   \n",
       "..    ...      ...                       ...       ...                ...   \n",
       "270  44.0        0                       582         1                 30   \n",
       "271  51.0        0                       582         1                 40   \n",
       "272  67.0        0                       213         0                 38   \n",
       "273  42.0        0                        64         0                 40   \n",
       "274  60.0        1                       257         1                 30   \n",
       "\n",
       "     high_blood_pressure  platelets  serum_creatinine  serum_sodium  sex  \\\n",
       "0                      1  265000.00               1.9           130    1   \n",
       "1                      0  263358.03               1.1           136    1   \n",
       "2                      0  162000.00               1.3           129    1   \n",
       "3                      0  210000.00               1.9           137    1   \n",
       "4                      0  327000.00               2.7           116    0   \n",
       "..                   ...        ...               ...           ...  ...   \n",
       "270                    1  263358.03               1.6           130    1   \n",
       "271                    0  221000.00               0.9           134    0   \n",
       "272                    0  215000.00               1.2           133    0   \n",
       "273                    0  189000.00               0.7           140    1   \n",
       "274                    0  150000.00               1.0           137    1   \n",
       "\n",
       "     smoking  time  target  \n",
       "0          0     4       1  \n",
       "1          0     6       1  \n",
       "2          1     7       1  \n",
       "3          0     7       1  \n",
       "4          0     8       1  \n",
       "..       ...   ...     ...  \n",
       "270        1   244       0  \n",
       "271        0   244       0  \n",
       "272        0   245       0  \n",
       "273        0   245       0  \n",
       "274        1   245       0  \n",
       "\n",
       "[275 rows x 13 columns]"
      ]
     },
     "execution_count": 18,
     "metadata": {},
     "output_type": "execute_result"
    }
   ],
   "source": [
    "df_train = df_train(275)\n",
    "#print(df_train)\n",
    "df_train"
   ]
  },
  {
   "cell_type": "code",
   "execution_count": 19,
   "metadata": {},
   "outputs": [],
   "source": [
    "#df_test = df_test(25)\n",
    "#df_test"
   ]
  },
  {
   "cell_type": "markdown",
   "metadata": {},
   "source": [
    "# Creating Generative Bayesian model"
   ]
  },
  {
   "cell_type": "code",
   "execution_count": 20,
   "metadata": {},
   "outputs": [],
   "source": [
    "# Split predictors variables(x) and target variable(y)\n",
    "\n",
    "x_real = df_train.drop('target', axis=1)\n",
    "y_real = df_train['target']"
   ]
  },
  {
   "cell_type": "code",
   "execution_count": 21,
   "metadata": {},
   "outputs": [],
   "source": [
    "# verify matrix \n",
    "y_shape = y_real.shape\n",
    "x_shape = x_real.shape\n",
    "\n",
    "#x_shape"
   ]
  },
  {
   "cell_type": "markdown",
   "metadata": {},
   "source": [
    "# Notas\n",
    "- sd o sigma: desviacion estandar "
   ]
  },
  {
   "cell_type": "code",
   "execution_count": 22,
   "metadata": {},
   "outputs": [],
   "source": [
    "with pm.Model() as generative_model:\n",
    "    x = pm.Normal('x', mu=x_real.mean(), sd=1.0, shape=(275, 12))\n",
    "    x_sintetico = pm.Normal('x_sintetico', mu=x, sd=1.0, shape=(275,12))\n",
    "    \n",
    "    y = pm.Normal('y', mu=y_real.mean(), sd=1.0, shape=(275))\n",
    "    y_sintetico = pm.Normal('y_sintetico', mu=y, sd=1.0, shape=(275))"
   ]
  },
  {
   "cell_type": "code",
   "execution_count": 23,
   "metadata": {},
   "outputs": [
    {
     "name": "stderr",
     "output_type": "stream",
     "text": [
      "/home/stefy/anaconda3/envs/ml-env/lib/python3.7/site-packages/deprecat/classic.py:215: FutureWarning: In v4.0, pm.sample will return an `arviz.InferenceData` object instead of a `MultiTrace` by default. You can pass return_inferencedata=True or return_inferencedata=False to be safe and silence this warning.\n",
      "  return wrapped_(*args_, **kwargs_)\n",
      "Auto-assigning NUTS sampler...\n",
      "Initializing NUTS using jitter+adapt_diag...\n",
      "Multiprocess sampling (4 chains in 4 jobs)\n",
      "NUTS: [y_sintetico, y, x_sintetico, x]\n"
     ]
    },
    {
     "data": {
      "text/html": [
       "\n",
       "<style>\n",
       "    /* Turns off some styling */\n",
       "    progress {\n",
       "        /* gets rid of default border in Firefox and Opera. */\n",
       "        border: none;\n",
       "        /* Needs to be in here for Safari polyfill so background images work as expected. */\n",
       "        background-size: auto;\n",
       "    }\n",
       "    progress:not([value]), progress:not([value])::-webkit-progress-bar {\n",
       "        background: repeating-linear-gradient(45deg, #7e7e7e, #7e7e7e 10px, #5c5c5c 10px, #5c5c5c 20px);\n",
       "    }\n",
       "    .progress-bar-interrupted, .progress-bar-interrupted::-webkit-progress-bar {\n",
       "        background: #F44336;\n",
       "    }\n",
       "</style>\n"
      ],
      "text/plain": [
       "<IPython.core.display.HTML object>"
      ]
     },
     "metadata": {},
     "output_type": "display_data"
    },
    {
     "data": {
      "text/html": [
       "\n",
       "    <div>\n",
       "      <progress value='8000' class='' max='8000' style='width:300px; height:20px; vertical-align: middle;'></progress>\n",
       "      100.00% [8000/8000 00:42&lt;00:00 Sampling 4 chains, 0 divergences]\n",
       "    </div>\n",
       "    "
      ],
      "text/plain": [
       "<IPython.core.display.HTML object>"
      ]
     },
     "metadata": {},
     "output_type": "display_data"
    },
    {
     "name": "stderr",
     "output_type": "stream",
     "text": [
      "Sampling 4 chains for 1_000 tune and 1_000 draw iterations (4_000 + 4_000 draws total) took 43 seconds.\n",
      "The acceptance probability does not match the target. It is 0.718161737591146, but should be close to 0.8. Try to increase the number of tuning steps.\n"
     ]
    }
   ],
   "source": [
    "with generative_model:\n",
    "    samplers = pm.sample(1000, tune=1000)"
   ]
  },
  {
   "cell_type": "code",
   "execution_count": 24,
   "metadata": {},
   "outputs": [],
   "source": [
    "x_sintetico_generado = samplers['x_sintetico']\n",
    "y_sintetico_generado = samplers['y_sintetico']"
   ]
  },
  {
   "cell_type": "code",
   "execution_count": 25,
   "metadata": {
    "scrolled": true
   },
   "outputs": [
    {
     "data": {
      "text/plain": [
       "array([[[ 6.01862660e+01, -3.72510439e-01,  5.67224441e+02, ...,\n",
       "         -4.37421761e-01, -2.04495972e-01,  1.19589184e+02],\n",
       "        [ 6.09307997e+01, -2.78667380e+00,  5.68632809e+02, ...,\n",
       "          3.60107162e+00,  8.58622511e-01,  1.21250835e+02],\n",
       "        [ 6.29129187e+01, -3.22922761e-01,  5.65744452e+02, ...,\n",
       "          1.05732214e+00, -2.52904824e-03,  1.19779187e+02],\n",
       "        ...,\n",
       "        [ 6.18643809e+01,  1.74247160e+00,  5.67907573e+02, ...,\n",
       "          2.05594467e+00,  1.65094675e-01,  1.17142897e+02],\n",
       "        [ 6.10019842e+01,  1.76360247e+00,  5.68365793e+02, ...,\n",
       "         -1.44845623e+00,  5.77811315e-01,  1.19406936e+02],\n",
       "        [ 6.05993456e+01, -3.46843788e-01,  5.67524837e+02, ...,\n",
       "         -5.41603857e-01,  3.02541829e+00,  1.21044229e+02]],\n",
       "\n",
       "       [[ 6.43827792e+01,  7.90660487e-01,  5.65943242e+02, ...,\n",
       "          1.65433995e+00,  2.44669760e+00,  1.18571645e+02],\n",
       "        [ 6.27323179e+01,  2.04953908e+00,  5.64152212e+02, ...,\n",
       "          3.81618776e+00,  2.62633960e+00,  1.17060995e+02],\n",
       "        [ 6.01073865e+01,  1.38717391e+00,  5.68299559e+02, ...,\n",
       "         -1.29076352e+00, -2.48918263e-01,  1.19722103e+02],\n",
       "        ...,\n",
       "        [ 6.11564122e+01,  4.80538498e-01,  5.66276692e+02, ...,\n",
       "          1.92943274e+00, -2.84268526e-02,  1.20787224e+02],\n",
       "        [ 6.02568720e+01,  7.96478621e-02,  5.64712308e+02, ...,\n",
       "          2.80934716e+00, -5.11538864e-01,  1.19536643e+02],\n",
       "        [ 6.14768804e+01, -8.36944506e-01,  5.68222853e+02, ...,\n",
       "          2.50418659e+00,  2.40777940e+00,  1.17854211e+02]],\n",
       "\n",
       "       [[ 5.94633023e+01,  3.08353639e+00,  5.67908500e+02, ...,\n",
       "          8.18149375e-01,  4.07642445e-02,  1.20578445e+02],\n",
       "        [ 6.01519876e+01,  5.18494353e-01,  5.66384116e+02, ...,\n",
       "         -4.91997888e-01, -2.66086954e+00,  1.20551428e+02],\n",
       "        [ 6.35579381e+01,  1.32292323e+00,  5.67966204e+02, ...,\n",
       "          2.77310513e+00, -8.92825396e-01,  1.20259882e+02],\n",
       "        ...,\n",
       "        [ 6.08993965e+01,  2.55762744e+00,  5.65980286e+02, ...,\n",
       "          1.94637483e+00, -5.48721165e-01,  1.20284141e+02],\n",
       "        [ 5.88057850e+01, -1.48206524e+00,  5.62496769e+02, ...,\n",
       "          2.04306992e+00, -1.20191488e+00,  1.19604206e+02],\n",
       "        [ 6.21594121e+01, -7.39484968e-01,  5.68881126e+02, ...,\n",
       "         -1.47194143e+00,  1.78263836e+00,  1.19678917e+02]],\n",
       "\n",
       "       ...,\n",
       "\n",
       "       [[ 5.99528961e+01, -1.34135306e+00,  5.68309478e+02, ...,\n",
       "          1.41937921e+00,  4.55053332e-01,  1.19380620e+02],\n",
       "        [ 5.78782092e+01,  1.67037228e-02,  5.66628550e+02, ...,\n",
       "          1.30901806e+00,  9.56496851e-01,  1.17544175e+02],\n",
       "        [ 6.19503610e+01,  1.30410311e+00,  5.65066733e+02, ...,\n",
       "         -1.12346133e+00,  1.13983860e+00,  1.18367821e+02],\n",
       "        ...,\n",
       "        [ 5.90710341e+01,  1.15606126e+00,  5.67379886e+02, ...,\n",
       "          1.75796190e+00,  2.48236552e+00,  1.21132461e+02],\n",
       "        [ 5.91857196e+01,  1.14622088e+00,  5.68044019e+02, ...,\n",
       "          7.59955583e-01, -3.80995295e+00,  1.19527366e+02],\n",
       "        [ 6.32848199e+01, -1.64250669e+00,  5.64431634e+02, ...,\n",
       "          4.59524755e-01, -1.86857557e+00,  1.19217842e+02]],\n",
       "\n",
       "       [[ 6.30378958e+01,  2.56398832e+00,  5.66424184e+02, ...,\n",
       "          1.59553046e+00,  6.70532614e-01,  1.18794323e+02],\n",
       "        [ 6.15019054e+01, -6.21500568e-01,  5.67274172e+02, ...,\n",
       "         -1.00122058e+00, -1.03590361e+00,  1.19262331e+02],\n",
       "        [ 6.06284397e+01, -1.43759285e+00,  5.70919729e+02, ...,\n",
       "          2.18989311e+00,  6.40119579e-01,  1.20195652e+02],\n",
       "        ...,\n",
       "        [ 6.27116647e+01, -5.38052887e-02,  5.65670179e+02, ...,\n",
       "          9.95875178e-01, -1.16535745e+00,  1.17975513e+02],\n",
       "        [ 6.39207475e+01, -1.45829660e+00,  5.65680431e+02, ...,\n",
       "          1.51076367e-01,  3.55724771e+00,  1.18754182e+02],\n",
       "        [ 5.96309925e+01,  2.30878001e+00,  5.68532073e+02, ...,\n",
       "          1.33988145e+00,  4.11207481e+00,  1.18809446e+02]],\n",
       "\n",
       "       [[ 6.09005644e+01, -1.86811930e+00,  5.67301109e+02, ...,\n",
       "         -7.07762872e-01, -9.68772886e-01,  1.19616670e+02],\n",
       "        [ 6.01203574e+01,  1.83505093e+00,  5.66826052e+02, ...,\n",
       "          1.83111558e+00,  9.21324578e-01,  1.21755449e+02],\n",
       "        [ 6.09494460e+01,  1.58640423e+00,  5.68409028e+02, ...,\n",
       "         -6.02901252e-01,  3.28345558e-01,  1.16651124e+02],\n",
       "        ...,\n",
       "        [ 5.72761368e+01,  2.57700443e+00,  5.68502424e+02, ...,\n",
       "          4.24068116e-01,  7.36627757e-01,  1.21205702e+02],\n",
       "        [ 5.95433045e+01,  9.87500152e-01,  5.70301633e+02, ...,\n",
       "          1.89117174e+00, -2.86603476e+00,  1.20387299e+02],\n",
       "        [ 6.34097343e+01,  1.22873420e+00,  5.66597522e+02, ...,\n",
       "         -1.87530748e+00, -3.83992729e-01,  1.18889947e+02]]])"
      ]
     },
     "execution_count": 25,
     "metadata": {},
     "output_type": "execute_result"
    }
   ],
   "source": [
    "x_sintetico_generado"
   ]
  },
  {
   "cell_type": "code",
   "execution_count": 26,
   "metadata": {},
   "outputs": [
    {
     "data": {
      "text/html": [
       "<div>\n",
       "<style scoped>\n",
       "    .dataframe tbody tr th:only-of-type {\n",
       "        vertical-align: middle;\n",
       "    }\n",
       "\n",
       "    .dataframe tbody tr th {\n",
       "        vertical-align: top;\n",
       "    }\n",
       "\n",
       "    .dataframe thead th {\n",
       "        text-align: right;\n",
       "    }\n",
       "</style>\n",
       "<table border=\"1\" class=\"dataframe\">\n",
       "  <thead>\n",
       "    <tr style=\"text-align: right;\">\n",
       "      <th></th>\n",
       "      <th>age</th>\n",
       "      <th>anaemia</th>\n",
       "      <th>creatinine_phosphokinase</th>\n",
       "      <th>diabetes</th>\n",
       "      <th>ejection_fraction</th>\n",
       "      <th>high_blood_pressure</th>\n",
       "      <th>platelets</th>\n",
       "      <th>serum_creatinine</th>\n",
       "      <th>serum_sodium</th>\n",
       "      <th>sex</th>\n",
       "      <th>smoking</th>\n",
       "      <th>time</th>\n",
       "    </tr>\n",
       "  </thead>\n",
       "  <tbody>\n",
       "    <tr>\n",
       "      <th>0</th>\n",
       "      <td>60.186266</td>\n",
       "      <td>-0.372510</td>\n",
       "      <td>567.224441</td>\n",
       "      <td>0.173071</td>\n",
       "      <td>39.839519</td>\n",
       "      <td>-1.136983</td>\n",
       "      <td>261119.087883</td>\n",
       "      <td>0.440664</td>\n",
       "      <td>135.220729</td>\n",
       "      <td>-0.437422</td>\n",
       "      <td>-0.204496</td>\n",
       "      <td>119.589184</td>\n",
       "    </tr>\n",
       "    <tr>\n",
       "      <th>1</th>\n",
       "      <td>60.930800</td>\n",
       "      <td>-2.786674</td>\n",
       "      <td>568.632809</td>\n",
       "      <td>0.987488</td>\n",
       "      <td>37.198455</td>\n",
       "      <td>-0.847710</td>\n",
       "      <td>261123.177887</td>\n",
       "      <td>2.950758</td>\n",
       "      <td>137.471088</td>\n",
       "      <td>3.601072</td>\n",
       "      <td>0.858623</td>\n",
       "      <td>121.250835</td>\n",
       "    </tr>\n",
       "    <tr>\n",
       "      <th>2</th>\n",
       "      <td>62.912919</td>\n",
       "      <td>-0.322923</td>\n",
       "      <td>565.744452</td>\n",
       "      <td>-0.339745</td>\n",
       "      <td>35.602179</td>\n",
       "      <td>0.240370</td>\n",
       "      <td>261119.945049</td>\n",
       "      <td>-0.097689</td>\n",
       "      <td>138.308307</td>\n",
       "      <td>1.057322</td>\n",
       "      <td>-0.002529</td>\n",
       "      <td>119.779187</td>\n",
       "    </tr>\n",
       "    <tr>\n",
       "      <th>3</th>\n",
       "      <td>61.848312</td>\n",
       "      <td>-0.952033</td>\n",
       "      <td>568.283227</td>\n",
       "      <td>-1.896220</td>\n",
       "      <td>38.026088</td>\n",
       "      <td>2.279739</td>\n",
       "      <td>261119.908373</td>\n",
       "      <td>2.147732</td>\n",
       "      <td>138.155153</td>\n",
       "      <td>1.814994</td>\n",
       "      <td>1.179037</td>\n",
       "      <td>117.765122</td>\n",
       "    </tr>\n",
       "    <tr>\n",
       "      <th>4</th>\n",
       "      <td>62.633397</td>\n",
       "      <td>2.164020</td>\n",
       "      <td>566.447212</td>\n",
       "      <td>-0.728199</td>\n",
       "      <td>36.183124</td>\n",
       "      <td>3.552983</td>\n",
       "      <td>261121.741915</td>\n",
       "      <td>1.799081</td>\n",
       "      <td>137.457236</td>\n",
       "      <td>-3.026933</td>\n",
       "      <td>0.929580</td>\n",
       "      <td>116.945867</td>\n",
       "    </tr>\n",
       "    <tr>\n",
       "      <th>...</th>\n",
       "      <td>...</td>\n",
       "      <td>...</td>\n",
       "      <td>...</td>\n",
       "      <td>...</td>\n",
       "      <td>...</td>\n",
       "      <td>...</td>\n",
       "      <td>...</td>\n",
       "      <td>...</td>\n",
       "      <td>...</td>\n",
       "      <td>...</td>\n",
       "      <td>...</td>\n",
       "      <td>...</td>\n",
       "    </tr>\n",
       "    <tr>\n",
       "      <th>1099995</th>\n",
       "      <td>62.861971</td>\n",
       "      <td>0.879506</td>\n",
       "      <td>566.079993</td>\n",
       "      <td>1.847524</td>\n",
       "      <td>40.196991</td>\n",
       "      <td>-1.379546</td>\n",
       "      <td>261121.093342</td>\n",
       "      <td>1.688804</td>\n",
       "      <td>134.977789</td>\n",
       "      <td>1.042972</td>\n",
       "      <td>-1.277695</td>\n",
       "      <td>119.202653</td>\n",
       "    </tr>\n",
       "    <tr>\n",
       "      <th>1099996</th>\n",
       "      <td>60.540682</td>\n",
       "      <td>0.781070</td>\n",
       "      <td>568.596781</td>\n",
       "      <td>0.383379</td>\n",
       "      <td>40.373026</td>\n",
       "      <td>0.027695</td>\n",
       "      <td>261122.935621</td>\n",
       "      <td>1.514755</td>\n",
       "      <td>137.505934</td>\n",
       "      <td>-0.056636</td>\n",
       "      <td>1.769699</td>\n",
       "      <td>115.880552</td>\n",
       "    </tr>\n",
       "    <tr>\n",
       "      <th>1099997</th>\n",
       "      <td>57.276137</td>\n",
       "      <td>2.577004</td>\n",
       "      <td>568.502424</td>\n",
       "      <td>2.841277</td>\n",
       "      <td>36.862749</td>\n",
       "      <td>-1.391282</td>\n",
       "      <td>261121.025608</td>\n",
       "      <td>4.163943</td>\n",
       "      <td>136.504836</td>\n",
       "      <td>0.424068</td>\n",
       "      <td>0.736628</td>\n",
       "      <td>121.205702</td>\n",
       "    </tr>\n",
       "    <tr>\n",
       "      <th>1099998</th>\n",
       "      <td>59.543304</td>\n",
       "      <td>0.987500</td>\n",
       "      <td>570.301633</td>\n",
       "      <td>-1.104723</td>\n",
       "      <td>38.443542</td>\n",
       "      <td>0.907136</td>\n",
       "      <td>261121.761911</td>\n",
       "      <td>3.073553</td>\n",
       "      <td>137.003990</td>\n",
       "      <td>1.891172</td>\n",
       "      <td>-2.866035</td>\n",
       "      <td>120.387299</td>\n",
       "    </tr>\n",
       "    <tr>\n",
       "      <th>1099999</th>\n",
       "      <td>63.409734</td>\n",
       "      <td>1.228734</td>\n",
       "      <td>566.597522</td>\n",
       "      <td>-1.117104</td>\n",
       "      <td>39.345858</td>\n",
       "      <td>-0.303662</td>\n",
       "      <td>261117.354879</td>\n",
       "      <td>2.839366</td>\n",
       "      <td>134.933763</td>\n",
       "      <td>-1.875307</td>\n",
       "      <td>-0.383993</td>\n",
       "      <td>118.889947</td>\n",
       "    </tr>\n",
       "  </tbody>\n",
       "</table>\n",
       "<p>1100000 rows × 12 columns</p>\n",
       "</div>"
      ],
      "text/plain": [
       "               age   anaemia  creatinine_phosphokinase  diabetes  \\\n",
       "0        60.186266 -0.372510                567.224441  0.173071   \n",
       "1        60.930800 -2.786674                568.632809  0.987488   \n",
       "2        62.912919 -0.322923                565.744452 -0.339745   \n",
       "3        61.848312 -0.952033                568.283227 -1.896220   \n",
       "4        62.633397  2.164020                566.447212 -0.728199   \n",
       "...            ...       ...                       ...       ...   \n",
       "1099995  62.861971  0.879506                566.079993  1.847524   \n",
       "1099996  60.540682  0.781070                568.596781  0.383379   \n",
       "1099997  57.276137  2.577004                568.502424  2.841277   \n",
       "1099998  59.543304  0.987500                570.301633 -1.104723   \n",
       "1099999  63.409734  1.228734                566.597522 -1.117104   \n",
       "\n",
       "         ejection_fraction  high_blood_pressure      platelets  \\\n",
       "0                39.839519            -1.136983  261119.087883   \n",
       "1                37.198455            -0.847710  261123.177887   \n",
       "2                35.602179             0.240370  261119.945049   \n",
       "3                38.026088             2.279739  261119.908373   \n",
       "4                36.183124             3.552983  261121.741915   \n",
       "...                    ...                  ...            ...   \n",
       "1099995          40.196991            -1.379546  261121.093342   \n",
       "1099996          40.373026             0.027695  261122.935621   \n",
       "1099997          36.862749            -1.391282  261121.025608   \n",
       "1099998          38.443542             0.907136  261121.761911   \n",
       "1099999          39.345858            -0.303662  261117.354879   \n",
       "\n",
       "         serum_creatinine  serum_sodium       sex   smoking        time  \n",
       "0                0.440664    135.220729 -0.437422 -0.204496  119.589184  \n",
       "1                2.950758    137.471088  3.601072  0.858623  121.250835  \n",
       "2               -0.097689    138.308307  1.057322 -0.002529  119.779187  \n",
       "3                2.147732    138.155153  1.814994  1.179037  117.765122  \n",
       "4                1.799081    137.457236 -3.026933  0.929580  116.945867  \n",
       "...                   ...           ...       ...       ...         ...  \n",
       "1099995          1.688804    134.977789  1.042972 -1.277695  119.202653  \n",
       "1099996          1.514755    137.505934 -0.056636  1.769699  115.880552  \n",
       "1099997          4.163943    136.504836  0.424068  0.736628  121.205702  \n",
       "1099998          3.073553    137.003990  1.891172 -2.866035  120.387299  \n",
       "1099999          2.839366    134.933763 -1.875307 -0.383993  118.889947  \n",
       "\n",
       "[1100000 rows x 12 columns]"
      ]
     },
     "execution_count": 26,
     "metadata": {},
     "output_type": "execute_result"
    }
   ],
   "source": [
    "x_sintetico_generado = x_sintetico_generado.reshape(-1, x_sintetico_generado.shape[-1])\n",
    "sintetico = pd.DataFrame(x_sintetico_generado, columns=['age','anaemia','creatinine_phosphokinase','diabetes','ejection_fraction','high_blood_pressure','platelets','serum_creatinine','serum_sodium','sex','smoking','time'])\n",
    "sintetico"
   ]
  },
  {
   "cell_type": "code",
   "execution_count": 27,
   "metadata": {},
   "outputs": [
    {
     "data": {
      "text/plain": [
       "array([[-1.43431473,  0.57013016, -1.88297449, ...,  3.7113344 ,\n",
       "         0.80205195, -1.53162098],\n",
       "       [ 0.1463058 ,  0.86717583,  2.06923482, ..., -2.39621955,\n",
       "         0.55928071,  0.51095486],\n",
       "       [-1.92643755, -1.55973937,  1.61326229, ..., -0.07923502,\n",
       "         0.64705781,  2.19021291],\n",
       "       ...,\n",
       "       [ 3.26041646,  3.16264139,  0.96100516, ...,  0.85012344,\n",
       "        -0.88635232, -0.89789306],\n",
       "       [-2.71983532, -2.17781292, -0.16297358, ..., -1.05363783,\n",
       "         0.83221564,  0.8024035 ],\n",
       "       [ 2.69893361,  2.29557481, -0.29156242, ...,  1.98380905,\n",
       "         0.37816809, -0.12404794]])"
      ]
     },
     "execution_count": 27,
     "metadata": {},
     "output_type": "execute_result"
    }
   ],
   "source": [
    "y_sintetico_generado"
   ]
  },
  {
   "cell_type": "code",
   "execution_count": 28,
   "metadata": {},
   "outputs": [
    {
     "data": {
      "text/html": [
       "<div>\n",
       "<style scoped>\n",
       "    .dataframe tbody tr th:only-of-type {\n",
       "        vertical-align: middle;\n",
       "    }\n",
       "\n",
       "    .dataframe tbody tr th {\n",
       "        vertical-align: top;\n",
       "    }\n",
       "\n",
       "    .dataframe thead th {\n",
       "        text-align: right;\n",
       "    }\n",
       "</style>\n",
       "<table border=\"1\" class=\"dataframe\">\n",
       "  <thead>\n",
       "    <tr style=\"text-align: right;\">\n",
       "      <th></th>\n",
       "      <th>target</th>\n",
       "    </tr>\n",
       "  </thead>\n",
       "  <tbody>\n",
       "    <tr>\n",
       "      <th>0</th>\n",
       "      <td>-1.434315</td>\n",
       "    </tr>\n",
       "    <tr>\n",
       "      <th>1</th>\n",
       "      <td>0.570130</td>\n",
       "    </tr>\n",
       "    <tr>\n",
       "      <th>2</th>\n",
       "      <td>-1.882974</td>\n",
       "    </tr>\n",
       "    <tr>\n",
       "      <th>3</th>\n",
       "      <td>1.673105</td>\n",
       "    </tr>\n",
       "    <tr>\n",
       "      <th>4</th>\n",
       "      <td>-2.973259</td>\n",
       "    </tr>\n",
       "    <tr>\n",
       "      <th>...</th>\n",
       "      <td>...</td>\n",
       "    </tr>\n",
       "    <tr>\n",
       "      <th>1099995</th>\n",
       "      <td>2.092998</td>\n",
       "    </tr>\n",
       "    <tr>\n",
       "      <th>1099996</th>\n",
       "      <td>1.584668</td>\n",
       "    </tr>\n",
       "    <tr>\n",
       "      <th>1099997</th>\n",
       "      <td>1.983809</td>\n",
       "    </tr>\n",
       "    <tr>\n",
       "      <th>1099998</th>\n",
       "      <td>0.378168</td>\n",
       "    </tr>\n",
       "    <tr>\n",
       "      <th>1099999</th>\n",
       "      <td>-0.124048</td>\n",
       "    </tr>\n",
       "  </tbody>\n",
       "</table>\n",
       "<p>1100000 rows × 1 columns</p>\n",
       "</div>"
      ],
      "text/plain": [
       "           target\n",
       "0       -1.434315\n",
       "1        0.570130\n",
       "2       -1.882974\n",
       "3        1.673105\n",
       "4       -2.973259\n",
       "...           ...\n",
       "1099995  2.092998\n",
       "1099996  1.584668\n",
       "1099997  1.983809\n",
       "1099998  0.378168\n",
       "1099999 -0.124048\n",
       "\n",
       "[1100000 rows x 1 columns]"
      ]
     },
     "execution_count": 28,
     "metadata": {},
     "output_type": "execute_result"
    }
   ],
   "source": [
    "#y_sintetico_generado = y_sintetico_generado.reshape(-1, y_sintetico_generado.shape[-1])\n",
    "y_sintetico_generado = y_sintetico_generado.flatten()\n",
    "sintetic = pd.DataFrame({'target': y_sintetico_generado})\n",
    "sintetic"
   ]
  },
  {
   "cell_type": "code",
   "execution_count": null,
   "metadata": {},
   "outputs": [],
   "source": []
  }
 ],
 "metadata": {
  "kernelspec": {
   "display_name": "Python 3 (ipykernel)",
   "language": "python",
   "name": "python3"
  },
  "language_info": {
   "codemirror_mode": {
    "name": "ipython",
    "version": 3
   },
   "file_extension": ".py",
   "mimetype": "text/x-python",
   "name": "python",
   "nbconvert_exporter": "python",
   "pygments_lexer": "ipython3",
   "version": "3.7.7"
  }
 },
 "nbformat": 4,
 "nbformat_minor": 5
}
