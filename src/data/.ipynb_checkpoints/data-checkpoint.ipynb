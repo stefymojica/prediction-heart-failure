{
 "cells": [
  {
   "cell_type": "code",
   "execution_count": 1,
   "metadata": {
    "scrolled": true
   },
   "outputs": [],
   "source": [
    "import pandas as pd\n",
    "import pymc3 as pm\n",
    "import numpy as np\n",
    "import matplotlib.pyplot as plt"
   ]
  },
  {
   "cell_type": "markdown",
   "metadata": {},
   "source": [
    "# Load Dataset"
   ]
  },
  {
   "cell_type": "code",
   "execution_count": 2,
   "metadata": {},
   "outputs": [
    {
     "data": {
      "text/html": [
       "<div>\n",
       "<style scoped>\n",
       "    .dataframe tbody tr th:only-of-type {\n",
       "        vertical-align: middle;\n",
       "    }\n",
       "\n",
       "    .dataframe tbody tr th {\n",
       "        vertical-align: top;\n",
       "    }\n",
       "\n",
       "    .dataframe thead th {\n",
       "        text-align: right;\n",
       "    }\n",
       "</style>\n",
       "<table border=\"1\" class=\"dataframe\">\n",
       "  <thead>\n",
       "    <tr style=\"text-align: right;\">\n",
       "      <th></th>\n",
       "      <th>age</th>\n",
       "      <th>anaemia</th>\n",
       "      <th>creatinine_phosphokinase</th>\n",
       "      <th>diabetes</th>\n",
       "      <th>ejection_fraction</th>\n",
       "      <th>high_blood_pressure</th>\n",
       "      <th>platelets</th>\n",
       "      <th>serum_creatinine</th>\n",
       "      <th>serum_sodium</th>\n",
       "      <th>sex</th>\n",
       "      <th>smoking</th>\n",
       "      <th>time</th>\n",
       "      <th>DEATH_EVENT</th>\n",
       "    </tr>\n",
       "  </thead>\n",
       "  <tbody>\n",
       "    <tr>\n",
       "      <th>0</th>\n",
       "      <td>75.0</td>\n",
       "      <td>0</td>\n",
       "      <td>582</td>\n",
       "      <td>0</td>\n",
       "      <td>20</td>\n",
       "      <td>1</td>\n",
       "      <td>265000.00</td>\n",
       "      <td>1.9</td>\n",
       "      <td>130</td>\n",
       "      <td>1</td>\n",
       "      <td>0</td>\n",
       "      <td>4</td>\n",
       "      <td>1</td>\n",
       "    </tr>\n",
       "    <tr>\n",
       "      <th>1</th>\n",
       "      <td>55.0</td>\n",
       "      <td>0</td>\n",
       "      <td>7861</td>\n",
       "      <td>0</td>\n",
       "      <td>38</td>\n",
       "      <td>0</td>\n",
       "      <td>263358.03</td>\n",
       "      <td>1.1</td>\n",
       "      <td>136</td>\n",
       "      <td>1</td>\n",
       "      <td>0</td>\n",
       "      <td>6</td>\n",
       "      <td>1</td>\n",
       "    </tr>\n",
       "    <tr>\n",
       "      <th>2</th>\n",
       "      <td>65.0</td>\n",
       "      <td>0</td>\n",
       "      <td>146</td>\n",
       "      <td>0</td>\n",
       "      <td>20</td>\n",
       "      <td>0</td>\n",
       "      <td>162000.00</td>\n",
       "      <td>1.3</td>\n",
       "      <td>129</td>\n",
       "      <td>1</td>\n",
       "      <td>1</td>\n",
       "      <td>7</td>\n",
       "      <td>1</td>\n",
       "    </tr>\n",
       "    <tr>\n",
       "      <th>3</th>\n",
       "      <td>50.0</td>\n",
       "      <td>1</td>\n",
       "      <td>111</td>\n",
       "      <td>0</td>\n",
       "      <td>20</td>\n",
       "      <td>0</td>\n",
       "      <td>210000.00</td>\n",
       "      <td>1.9</td>\n",
       "      <td>137</td>\n",
       "      <td>1</td>\n",
       "      <td>0</td>\n",
       "      <td>7</td>\n",
       "      <td>1</td>\n",
       "    </tr>\n",
       "    <tr>\n",
       "      <th>4</th>\n",
       "      <td>65.0</td>\n",
       "      <td>1</td>\n",
       "      <td>160</td>\n",
       "      <td>1</td>\n",
       "      <td>20</td>\n",
       "      <td>0</td>\n",
       "      <td>327000.00</td>\n",
       "      <td>2.7</td>\n",
       "      <td>116</td>\n",
       "      <td>0</td>\n",
       "      <td>0</td>\n",
       "      <td>8</td>\n",
       "      <td>1</td>\n",
       "    </tr>\n",
       "    <tr>\n",
       "      <th>...</th>\n",
       "      <td>...</td>\n",
       "      <td>...</td>\n",
       "      <td>...</td>\n",
       "      <td>...</td>\n",
       "      <td>...</td>\n",
       "      <td>...</td>\n",
       "      <td>...</td>\n",
       "      <td>...</td>\n",
       "      <td>...</td>\n",
       "      <td>...</td>\n",
       "      <td>...</td>\n",
       "      <td>...</td>\n",
       "      <td>...</td>\n",
       "    </tr>\n",
       "    <tr>\n",
       "      <th>294</th>\n",
       "      <td>62.0</td>\n",
       "      <td>0</td>\n",
       "      <td>61</td>\n",
       "      <td>1</td>\n",
       "      <td>38</td>\n",
       "      <td>1</td>\n",
       "      <td>155000.00</td>\n",
       "      <td>1.1</td>\n",
       "      <td>143</td>\n",
       "      <td>1</td>\n",
       "      <td>1</td>\n",
       "      <td>270</td>\n",
       "      <td>0</td>\n",
       "    </tr>\n",
       "    <tr>\n",
       "      <th>295</th>\n",
       "      <td>55.0</td>\n",
       "      <td>0</td>\n",
       "      <td>1820</td>\n",
       "      <td>0</td>\n",
       "      <td>38</td>\n",
       "      <td>0</td>\n",
       "      <td>270000.00</td>\n",
       "      <td>1.2</td>\n",
       "      <td>139</td>\n",
       "      <td>0</td>\n",
       "      <td>0</td>\n",
       "      <td>271</td>\n",
       "      <td>0</td>\n",
       "    </tr>\n",
       "    <tr>\n",
       "      <th>296</th>\n",
       "      <td>45.0</td>\n",
       "      <td>0</td>\n",
       "      <td>2060</td>\n",
       "      <td>1</td>\n",
       "      <td>60</td>\n",
       "      <td>0</td>\n",
       "      <td>742000.00</td>\n",
       "      <td>0.8</td>\n",
       "      <td>138</td>\n",
       "      <td>0</td>\n",
       "      <td>0</td>\n",
       "      <td>278</td>\n",
       "      <td>0</td>\n",
       "    </tr>\n",
       "    <tr>\n",
       "      <th>297</th>\n",
       "      <td>45.0</td>\n",
       "      <td>0</td>\n",
       "      <td>2413</td>\n",
       "      <td>0</td>\n",
       "      <td>38</td>\n",
       "      <td>0</td>\n",
       "      <td>140000.00</td>\n",
       "      <td>1.4</td>\n",
       "      <td>140</td>\n",
       "      <td>1</td>\n",
       "      <td>1</td>\n",
       "      <td>280</td>\n",
       "      <td>0</td>\n",
       "    </tr>\n",
       "    <tr>\n",
       "      <th>298</th>\n",
       "      <td>50.0</td>\n",
       "      <td>0</td>\n",
       "      <td>196</td>\n",
       "      <td>0</td>\n",
       "      <td>45</td>\n",
       "      <td>0</td>\n",
       "      <td>395000.00</td>\n",
       "      <td>1.6</td>\n",
       "      <td>136</td>\n",
       "      <td>1</td>\n",
       "      <td>1</td>\n",
       "      <td>285</td>\n",
       "      <td>0</td>\n",
       "    </tr>\n",
       "  </tbody>\n",
       "</table>\n",
       "<p>299 rows × 13 columns</p>\n",
       "</div>"
      ],
      "text/plain": [
       "      age  anaemia  creatinine_phosphokinase  diabetes  ejection_fraction  \\\n",
       "0    75.0        0                       582         0                 20   \n",
       "1    55.0        0                      7861         0                 38   \n",
       "2    65.0        0                       146         0                 20   \n",
       "3    50.0        1                       111         0                 20   \n",
       "4    65.0        1                       160         1                 20   \n",
       "..    ...      ...                       ...       ...                ...   \n",
       "294  62.0        0                        61         1                 38   \n",
       "295  55.0        0                      1820         0                 38   \n",
       "296  45.0        0                      2060         1                 60   \n",
       "297  45.0        0                      2413         0                 38   \n",
       "298  50.0        0                       196         0                 45   \n",
       "\n",
       "     high_blood_pressure  platelets  serum_creatinine  serum_sodium  sex  \\\n",
       "0                      1  265000.00               1.9           130    1   \n",
       "1                      0  263358.03               1.1           136    1   \n",
       "2                      0  162000.00               1.3           129    1   \n",
       "3                      0  210000.00               1.9           137    1   \n",
       "4                      0  327000.00               2.7           116    0   \n",
       "..                   ...        ...               ...           ...  ...   \n",
       "294                    1  155000.00               1.1           143    1   \n",
       "295                    0  270000.00               1.2           139    0   \n",
       "296                    0  742000.00               0.8           138    0   \n",
       "297                    0  140000.00               1.4           140    1   \n",
       "298                    0  395000.00               1.6           136    1   \n",
       "\n",
       "     smoking  time  DEATH_EVENT  \n",
       "0          0     4            1  \n",
       "1          0     6            1  \n",
       "2          1     7            1  \n",
       "3          0     7            1  \n",
       "4          0     8            1  \n",
       "..       ...   ...          ...  \n",
       "294        1   270            0  \n",
       "295        0   271            0  \n",
       "296        0   278            0  \n",
       "297        1   280            0  \n",
       "298        1   285            0  \n",
       "\n",
       "[299 rows x 13 columns]"
      ]
     },
     "execution_count": 2,
     "metadata": {},
     "output_type": "execute_result"
    }
   ],
   "source": [
    "df = pd.read_csv('./heart-failure.csv', sep=',', index_col=False)\n",
    "df"
   ]
  },
  {
   "cell_type": "markdown",
   "metadata": {},
   "source": [
    "# Function"
   ]
  },
  {
   "cell_type": "code",
   "execution_count": 3,
   "metadata": {},
   "outputs": [],
   "source": [
    "def df_train(number_register):\n",
    "    df_train = df.copy()\n",
    "    df_train = df_train.head(number_register)\n",
    "    return df_train\n",
    "\n",
    "def df_test(number_register):\n",
    "    df_test = df.copy()\n",
    "    df_test = df_test.tail(number_register)\n",
    "    return df_test\n",
    "\n",
    "def min_value(column_name):\n",
    "    min_value = df[column_name].min()\n",
    "    print(f\"El valor min {column_name} es {min_value}\")\n",
    "    return min_value\n",
    "\n",
    "def max_value(column_name):\n",
    "    max_value = df[column_name].max()\n",
    "    print(f\"El valor max {column_name} es {max_value}\")\n",
    "    return max_value\n",
    "\n",
    "def data_gen_min_value(column_name):\n",
    "    max_value = sintetico[column_name].min()\n",
    "    print(f\"El valor min {column_name} es {max_value}\")\n",
    "    return max_value\n",
    "\n",
    "def data_gen_max_value(column_name):\n",
    "    max_value = sintetico[column_name].max()\n",
    "    print(f\"El valor max {column_name} es {max_value}\")\n",
    "    return max_value"
   ]
  },
  {
   "cell_type": "markdown",
   "metadata": {},
   "source": [
    "# Clean Data"
   ]
  },
  {
   "cell_type": "code",
   "execution_count": 4,
   "metadata": {},
   "outputs": [
    {
     "data": {
      "text/plain": [
       "age                         0\n",
       "anaemia                     0\n",
       "creatinine_phosphokinase    0\n",
       "diabetes                    0\n",
       "ejection_fraction           0\n",
       "high_blood_pressure         0\n",
       "platelets                   0\n",
       "serum_creatinine            0\n",
       "serum_sodium                0\n",
       "sex                         0\n",
       "smoking                     0\n",
       "time                        0\n",
       "DEATH_EVENT                 0\n",
       "dtype: int64"
      ]
     },
     "execution_count": 4,
     "metadata": {},
     "output_type": "execute_result"
    }
   ],
   "source": [
    "# Nulos en las columnas\n",
    "df_null = df.isnull().sum()\n",
    "df_null"
   ]
  },
  {
   "cell_type": "code",
   "execution_count": 5,
   "metadata": {},
   "outputs": [],
   "source": [
    "# int \n",
    "df[['age','platelets']] = df[['age','platelets']].astype(int)\n",
    "#df"
   ]
  },
  {
   "cell_type": "code",
   "execution_count": 6,
   "metadata": {},
   "outputs": [],
   "source": [
    "# rename target variable\n",
    "df = df.rename(columns={'DEATH_EVENT':'target'})"
   ]
  },
  {
   "cell_type": "code",
   "execution_count": 7,
   "metadata": {},
   "outputs": [
    {
     "data": {
      "text/html": [
       "<div>\n",
       "<style scoped>\n",
       "    .dataframe tbody tr th:only-of-type {\n",
       "        vertical-align: middle;\n",
       "    }\n",
       "\n",
       "    .dataframe tbody tr th {\n",
       "        vertical-align: top;\n",
       "    }\n",
       "\n",
       "    .dataframe thead th {\n",
       "        text-align: right;\n",
       "    }\n",
       "</style>\n",
       "<table border=\"1\" class=\"dataframe\">\n",
       "  <thead>\n",
       "    <tr style=\"text-align: right;\">\n",
       "      <th></th>\n",
       "      <th>age</th>\n",
       "      <th>anaemia</th>\n",
       "      <th>creatinine_phosphokinase</th>\n",
       "      <th>diabetes</th>\n",
       "      <th>ejection_fraction</th>\n",
       "      <th>high_blood_pressure</th>\n",
       "      <th>platelets</th>\n",
       "      <th>serum_creatinine</th>\n",
       "      <th>serum_sodium</th>\n",
       "      <th>sex</th>\n",
       "      <th>smoking</th>\n",
       "      <th>time</th>\n",
       "      <th>target</th>\n",
       "    </tr>\n",
       "  </thead>\n",
       "  <tbody>\n",
       "    <tr>\n",
       "      <th>0</th>\n",
       "      <td>75</td>\n",
       "      <td>0</td>\n",
       "      <td>582</td>\n",
       "      <td>0</td>\n",
       "      <td>20</td>\n",
       "      <td>1</td>\n",
       "      <td>265000</td>\n",
       "      <td>1.9</td>\n",
       "      <td>130</td>\n",
       "      <td>1</td>\n",
       "      <td>0</td>\n",
       "      <td>4</td>\n",
       "      <td>1</td>\n",
       "    </tr>\n",
       "    <tr>\n",
       "      <th>1</th>\n",
       "      <td>55</td>\n",
       "      <td>0</td>\n",
       "      <td>7861</td>\n",
       "      <td>0</td>\n",
       "      <td>38</td>\n",
       "      <td>0</td>\n",
       "      <td>263358</td>\n",
       "      <td>1.1</td>\n",
       "      <td>136</td>\n",
       "      <td>1</td>\n",
       "      <td>0</td>\n",
       "      <td>6</td>\n",
       "      <td>1</td>\n",
       "    </tr>\n",
       "    <tr>\n",
       "      <th>2</th>\n",
       "      <td>65</td>\n",
       "      <td>0</td>\n",
       "      <td>146</td>\n",
       "      <td>0</td>\n",
       "      <td>20</td>\n",
       "      <td>0</td>\n",
       "      <td>162000</td>\n",
       "      <td>1.3</td>\n",
       "      <td>129</td>\n",
       "      <td>1</td>\n",
       "      <td>1</td>\n",
       "      <td>7</td>\n",
       "      <td>1</td>\n",
       "    </tr>\n",
       "    <tr>\n",
       "      <th>3</th>\n",
       "      <td>50</td>\n",
       "      <td>1</td>\n",
       "      <td>111</td>\n",
       "      <td>0</td>\n",
       "      <td>20</td>\n",
       "      <td>0</td>\n",
       "      <td>210000</td>\n",
       "      <td>1.9</td>\n",
       "      <td>137</td>\n",
       "      <td>1</td>\n",
       "      <td>0</td>\n",
       "      <td>7</td>\n",
       "      <td>1</td>\n",
       "    </tr>\n",
       "    <tr>\n",
       "      <th>4</th>\n",
       "      <td>65</td>\n",
       "      <td>1</td>\n",
       "      <td>160</td>\n",
       "      <td>1</td>\n",
       "      <td>20</td>\n",
       "      <td>0</td>\n",
       "      <td>327000</td>\n",
       "      <td>2.7</td>\n",
       "      <td>116</td>\n",
       "      <td>0</td>\n",
       "      <td>0</td>\n",
       "      <td>8</td>\n",
       "      <td>1</td>\n",
       "    </tr>\n",
       "    <tr>\n",
       "      <th>...</th>\n",
       "      <td>...</td>\n",
       "      <td>...</td>\n",
       "      <td>...</td>\n",
       "      <td>...</td>\n",
       "      <td>...</td>\n",
       "      <td>...</td>\n",
       "      <td>...</td>\n",
       "      <td>...</td>\n",
       "      <td>...</td>\n",
       "      <td>...</td>\n",
       "      <td>...</td>\n",
       "      <td>...</td>\n",
       "      <td>...</td>\n",
       "    </tr>\n",
       "    <tr>\n",
       "      <th>294</th>\n",
       "      <td>62</td>\n",
       "      <td>0</td>\n",
       "      <td>61</td>\n",
       "      <td>1</td>\n",
       "      <td>38</td>\n",
       "      <td>1</td>\n",
       "      <td>155000</td>\n",
       "      <td>1.1</td>\n",
       "      <td>143</td>\n",
       "      <td>1</td>\n",
       "      <td>1</td>\n",
       "      <td>270</td>\n",
       "      <td>0</td>\n",
       "    </tr>\n",
       "    <tr>\n",
       "      <th>295</th>\n",
       "      <td>55</td>\n",
       "      <td>0</td>\n",
       "      <td>1820</td>\n",
       "      <td>0</td>\n",
       "      <td>38</td>\n",
       "      <td>0</td>\n",
       "      <td>270000</td>\n",
       "      <td>1.2</td>\n",
       "      <td>139</td>\n",
       "      <td>0</td>\n",
       "      <td>0</td>\n",
       "      <td>271</td>\n",
       "      <td>0</td>\n",
       "    </tr>\n",
       "    <tr>\n",
       "      <th>296</th>\n",
       "      <td>45</td>\n",
       "      <td>0</td>\n",
       "      <td>2060</td>\n",
       "      <td>1</td>\n",
       "      <td>60</td>\n",
       "      <td>0</td>\n",
       "      <td>742000</td>\n",
       "      <td>0.8</td>\n",
       "      <td>138</td>\n",
       "      <td>0</td>\n",
       "      <td>0</td>\n",
       "      <td>278</td>\n",
       "      <td>0</td>\n",
       "    </tr>\n",
       "    <tr>\n",
       "      <th>297</th>\n",
       "      <td>45</td>\n",
       "      <td>0</td>\n",
       "      <td>2413</td>\n",
       "      <td>0</td>\n",
       "      <td>38</td>\n",
       "      <td>0</td>\n",
       "      <td>140000</td>\n",
       "      <td>1.4</td>\n",
       "      <td>140</td>\n",
       "      <td>1</td>\n",
       "      <td>1</td>\n",
       "      <td>280</td>\n",
       "      <td>0</td>\n",
       "    </tr>\n",
       "    <tr>\n",
       "      <th>298</th>\n",
       "      <td>50</td>\n",
       "      <td>0</td>\n",
       "      <td>196</td>\n",
       "      <td>0</td>\n",
       "      <td>45</td>\n",
       "      <td>0</td>\n",
       "      <td>395000</td>\n",
       "      <td>1.6</td>\n",
       "      <td>136</td>\n",
       "      <td>1</td>\n",
       "      <td>1</td>\n",
       "      <td>285</td>\n",
       "      <td>0</td>\n",
       "    </tr>\n",
       "  </tbody>\n",
       "</table>\n",
       "<p>299 rows × 13 columns</p>\n",
       "</div>"
      ],
      "text/plain": [
       "     age  anaemia  creatinine_phosphokinase  diabetes  ejection_fraction  \\\n",
       "0     75        0                       582         0                 20   \n",
       "1     55        0                      7861         0                 38   \n",
       "2     65        0                       146         0                 20   \n",
       "3     50        1                       111         0                 20   \n",
       "4     65        1                       160         1                 20   \n",
       "..   ...      ...                       ...       ...                ...   \n",
       "294   62        0                        61         1                 38   \n",
       "295   55        0                      1820         0                 38   \n",
       "296   45        0                      2060         1                 60   \n",
       "297   45        0                      2413         0                 38   \n",
       "298   50        0                       196         0                 45   \n",
       "\n",
       "     high_blood_pressure  platelets  serum_creatinine  serum_sodium  sex  \\\n",
       "0                      1     265000               1.9           130    1   \n",
       "1                      0     263358               1.1           136    1   \n",
       "2                      0     162000               1.3           129    1   \n",
       "3                      0     210000               1.9           137    1   \n",
       "4                      0     327000               2.7           116    0   \n",
       "..                   ...        ...               ...           ...  ...   \n",
       "294                    1     155000               1.1           143    1   \n",
       "295                    0     270000               1.2           139    0   \n",
       "296                    0     742000               0.8           138    0   \n",
       "297                    0     140000               1.4           140    1   \n",
       "298                    0     395000               1.6           136    1   \n",
       "\n",
       "     smoking  time  target  \n",
       "0          0     4       1  \n",
       "1          0     6       1  \n",
       "2          1     7       1  \n",
       "3          0     7       1  \n",
       "4          0     8       1  \n",
       "..       ...   ...     ...  \n",
       "294        1   270       0  \n",
       "295        0   271       0  \n",
       "296        0   278       0  \n",
       "297        1   280       0  \n",
       "298        1   285       0  \n",
       "\n",
       "[299 rows x 13 columns]"
      ]
     },
     "execution_count": 7,
     "metadata": {},
     "output_type": "execute_result"
    }
   ],
   "source": [
    "# verifiying int in df\n",
    "df"
   ]
  },
  {
   "cell_type": "markdown",
   "metadata": {},
   "source": [
    "# Analize data real"
   ]
  },
  {
   "cell_type": "markdown",
   "metadata": {},
   "source": [
    "### Numeric columns"
   ]
  },
  {
   "cell_type": "code",
   "execution_count": 8,
   "metadata": {},
   "outputs": [
    {
     "name": "stdout",
     "output_type": "stream",
     "text": [
      "El valor min age es 40\n",
      "El valor max age es 95\n"
     ]
    }
   ],
   "source": [
    "min_value_age = min_value('age')\n",
    "max_value_age = max_value('age')"
   ]
  },
  {
   "cell_type": "code",
   "execution_count": 9,
   "metadata": {},
   "outputs": [
    {
     "name": "stdout",
     "output_type": "stream",
     "text": [
      "El valor min creatinine_phosphokinase es 23\n",
      "El valor max creatinine_phosphokinase es 7861\n"
     ]
    }
   ],
   "source": [
    "min_value_creatine = min_value('creatinine_phosphokinase')\n",
    "max_value_creatine = max_value('creatinine_phosphokinase')"
   ]
  },
  {
   "cell_type": "code",
   "execution_count": 10,
   "metadata": {},
   "outputs": [
    {
     "name": "stdout",
     "output_type": "stream",
     "text": [
      "El valor min ejection_fraction es 14\n",
      "El valor max ejection_fraction es 80\n"
     ]
    }
   ],
   "source": [
    "min_value_ejection = min_value('ejection_fraction')\n",
    "max_value_ejection = max_value('ejection_fraction')"
   ]
  },
  {
   "cell_type": "code",
   "execution_count": 11,
   "metadata": {},
   "outputs": [
    {
     "name": "stdout",
     "output_type": "stream",
     "text": [
      "El valor min platelets es 25100\n",
      "El valor max platelets es 850000\n"
     ]
    }
   ],
   "source": [
    "min_value_platelets = min_value('platelets')\n",
    "max_value_platelets = max_value('platelets')"
   ]
  },
  {
   "cell_type": "code",
   "execution_count": 12,
   "metadata": {},
   "outputs": [
    {
     "name": "stdout",
     "output_type": "stream",
     "text": [
      "El valor min serum_creatinine es 0.5\n",
      "El valor max serum_creatinine es 9.4\n"
     ]
    }
   ],
   "source": [
    "min_value_creatinine = min_value('serum_creatinine')\n",
    "max_value_creatinine = max_value('serum_creatinine')"
   ]
  },
  {
   "cell_type": "code",
   "execution_count": 13,
   "metadata": {},
   "outputs": [
    {
     "name": "stdout",
     "output_type": "stream",
     "text": [
      "El valor min serum_sodium es 113\n",
      "El valor max serum_sodium es 148\n"
     ]
    }
   ],
   "source": [
    "min_value_sodium = min_value('serum_sodium')\n",
    "max_value_sodium = max_value('serum_sodium')"
   ]
  },
  {
   "cell_type": "code",
   "execution_count": 14,
   "metadata": {},
   "outputs": [
    {
     "name": "stdout",
     "output_type": "stream",
     "text": [
      "El valor min time es 4\n",
      "El valor max time es 285\n"
     ]
    }
   ],
   "source": [
    "min_value_time = min_value('time')\n",
    "max_value_time = max_value('time')"
   ]
  },
  {
   "cell_type": "markdown",
   "metadata": {},
   "source": [
    "### Binary columns"
   ]
  },
  {
   "cell_type": "code",
   "execution_count": 15,
   "metadata": {},
   "outputs": [
    {
     "name": "stdout",
     "output_type": "stream",
     "text": [
      "El valor min anaemia es 0\n",
      "El valor max anaemia es 1\n"
     ]
    }
   ],
   "source": [
    "min_value_anemia = min_value('anaemia')\n",
    "max_value_anemia = max_value('anaemia')"
   ]
  },
  {
   "cell_type": "code",
   "execution_count": 16,
   "metadata": {},
   "outputs": [
    {
     "name": "stdout",
     "output_type": "stream",
     "text": [
      "El valor min diabetes es 0\n",
      "El valor max diabetes es 1\n"
     ]
    }
   ],
   "source": [
    "min_value_diabetes = min_value('diabetes')\n",
    "max_value_diabetes = max_value('diabetes')"
   ]
  },
  {
   "cell_type": "code",
   "execution_count": 17,
   "metadata": {},
   "outputs": [
    {
     "name": "stdout",
     "output_type": "stream",
     "text": [
      "El valor min high_blood_pressure es 0\n",
      "El valor max high_blood_pressure es 1\n"
     ]
    }
   ],
   "source": [
    "min_value_pressure = min_value('high_blood_pressure')\n",
    "max_value_pressure = max_value('high_blood_pressure')"
   ]
  },
  {
   "cell_type": "code",
   "execution_count": 18,
   "metadata": {},
   "outputs": [
    {
     "name": "stdout",
     "output_type": "stream",
     "text": [
      "El valor min sex es 0\n",
      "El valor max sex es 1\n"
     ]
    }
   ],
   "source": [
    "min_value_sex = min_value('sex')\n",
    "max_value_sex = max_value('sex')"
   ]
  },
  {
   "cell_type": "code",
   "execution_count": 19,
   "metadata": {},
   "outputs": [
    {
     "name": "stdout",
     "output_type": "stream",
     "text": [
      "El valor min smoking es 0\n",
      "El valor max smoking es 1\n"
     ]
    }
   ],
   "source": [
    "min_value_smoking = min_value('smoking')\n",
    "max_value_smoking = max_value('smoking')"
   ]
  },
  {
   "cell_type": "markdown",
   "metadata": {},
   "source": [
    "# Split train - test data"
   ]
  },
  {
   "cell_type": "code",
   "execution_count": 20,
   "metadata": {},
   "outputs": [
    {
     "data": {
      "text/html": [
       "<div>\n",
       "<style scoped>\n",
       "    .dataframe tbody tr th:only-of-type {\n",
       "        vertical-align: middle;\n",
       "    }\n",
       "\n",
       "    .dataframe tbody tr th {\n",
       "        vertical-align: top;\n",
       "    }\n",
       "\n",
       "    .dataframe thead th {\n",
       "        text-align: right;\n",
       "    }\n",
       "</style>\n",
       "<table border=\"1\" class=\"dataframe\">\n",
       "  <thead>\n",
       "    <tr style=\"text-align: right;\">\n",
       "      <th></th>\n",
       "      <th>age</th>\n",
       "      <th>anaemia</th>\n",
       "      <th>creatinine_phosphokinase</th>\n",
       "      <th>diabetes</th>\n",
       "      <th>ejection_fraction</th>\n",
       "      <th>high_blood_pressure</th>\n",
       "      <th>platelets</th>\n",
       "      <th>serum_creatinine</th>\n",
       "      <th>serum_sodium</th>\n",
       "      <th>sex</th>\n",
       "      <th>smoking</th>\n",
       "      <th>time</th>\n",
       "      <th>target</th>\n",
       "    </tr>\n",
       "  </thead>\n",
       "  <tbody>\n",
       "    <tr>\n",
       "      <th>0</th>\n",
       "      <td>75</td>\n",
       "      <td>0</td>\n",
       "      <td>582</td>\n",
       "      <td>0</td>\n",
       "      <td>20</td>\n",
       "      <td>1</td>\n",
       "      <td>265000</td>\n",
       "      <td>1.9</td>\n",
       "      <td>130</td>\n",
       "      <td>1</td>\n",
       "      <td>0</td>\n",
       "      <td>4</td>\n",
       "      <td>1</td>\n",
       "    </tr>\n",
       "    <tr>\n",
       "      <th>1</th>\n",
       "      <td>55</td>\n",
       "      <td>0</td>\n",
       "      <td>7861</td>\n",
       "      <td>0</td>\n",
       "      <td>38</td>\n",
       "      <td>0</td>\n",
       "      <td>263358</td>\n",
       "      <td>1.1</td>\n",
       "      <td>136</td>\n",
       "      <td>1</td>\n",
       "      <td>0</td>\n",
       "      <td>6</td>\n",
       "      <td>1</td>\n",
       "    </tr>\n",
       "    <tr>\n",
       "      <th>2</th>\n",
       "      <td>65</td>\n",
       "      <td>0</td>\n",
       "      <td>146</td>\n",
       "      <td>0</td>\n",
       "      <td>20</td>\n",
       "      <td>0</td>\n",
       "      <td>162000</td>\n",
       "      <td>1.3</td>\n",
       "      <td>129</td>\n",
       "      <td>1</td>\n",
       "      <td>1</td>\n",
       "      <td>7</td>\n",
       "      <td>1</td>\n",
       "    </tr>\n",
       "    <tr>\n",
       "      <th>3</th>\n",
       "      <td>50</td>\n",
       "      <td>1</td>\n",
       "      <td>111</td>\n",
       "      <td>0</td>\n",
       "      <td>20</td>\n",
       "      <td>0</td>\n",
       "      <td>210000</td>\n",
       "      <td>1.9</td>\n",
       "      <td>137</td>\n",
       "      <td>1</td>\n",
       "      <td>0</td>\n",
       "      <td>7</td>\n",
       "      <td>1</td>\n",
       "    </tr>\n",
       "    <tr>\n",
       "      <th>4</th>\n",
       "      <td>65</td>\n",
       "      <td>1</td>\n",
       "      <td>160</td>\n",
       "      <td>1</td>\n",
       "      <td>20</td>\n",
       "      <td>0</td>\n",
       "      <td>327000</td>\n",
       "      <td>2.7</td>\n",
       "      <td>116</td>\n",
       "      <td>0</td>\n",
       "      <td>0</td>\n",
       "      <td>8</td>\n",
       "      <td>1</td>\n",
       "    </tr>\n",
       "    <tr>\n",
       "      <th>...</th>\n",
       "      <td>...</td>\n",
       "      <td>...</td>\n",
       "      <td>...</td>\n",
       "      <td>...</td>\n",
       "      <td>...</td>\n",
       "      <td>...</td>\n",
       "      <td>...</td>\n",
       "      <td>...</td>\n",
       "      <td>...</td>\n",
       "      <td>...</td>\n",
       "      <td>...</td>\n",
       "      <td>...</td>\n",
       "      <td>...</td>\n",
       "    </tr>\n",
       "    <tr>\n",
       "      <th>270</th>\n",
       "      <td>44</td>\n",
       "      <td>0</td>\n",
       "      <td>582</td>\n",
       "      <td>1</td>\n",
       "      <td>30</td>\n",
       "      <td>1</td>\n",
       "      <td>263358</td>\n",
       "      <td>1.6</td>\n",
       "      <td>130</td>\n",
       "      <td>1</td>\n",
       "      <td>1</td>\n",
       "      <td>244</td>\n",
       "      <td>0</td>\n",
       "    </tr>\n",
       "    <tr>\n",
       "      <th>271</th>\n",
       "      <td>51</td>\n",
       "      <td>0</td>\n",
       "      <td>582</td>\n",
       "      <td>1</td>\n",
       "      <td>40</td>\n",
       "      <td>0</td>\n",
       "      <td>221000</td>\n",
       "      <td>0.9</td>\n",
       "      <td>134</td>\n",
       "      <td>0</td>\n",
       "      <td>0</td>\n",
       "      <td>244</td>\n",
       "      <td>0</td>\n",
       "    </tr>\n",
       "    <tr>\n",
       "      <th>272</th>\n",
       "      <td>67</td>\n",
       "      <td>0</td>\n",
       "      <td>213</td>\n",
       "      <td>0</td>\n",
       "      <td>38</td>\n",
       "      <td>0</td>\n",
       "      <td>215000</td>\n",
       "      <td>1.2</td>\n",
       "      <td>133</td>\n",
       "      <td>0</td>\n",
       "      <td>0</td>\n",
       "      <td>245</td>\n",
       "      <td>0</td>\n",
       "    </tr>\n",
       "    <tr>\n",
       "      <th>273</th>\n",
       "      <td>42</td>\n",
       "      <td>0</td>\n",
       "      <td>64</td>\n",
       "      <td>0</td>\n",
       "      <td>40</td>\n",
       "      <td>0</td>\n",
       "      <td>189000</td>\n",
       "      <td>0.7</td>\n",
       "      <td>140</td>\n",
       "      <td>1</td>\n",
       "      <td>0</td>\n",
       "      <td>245</td>\n",
       "      <td>0</td>\n",
       "    </tr>\n",
       "    <tr>\n",
       "      <th>274</th>\n",
       "      <td>60</td>\n",
       "      <td>1</td>\n",
       "      <td>257</td>\n",
       "      <td>1</td>\n",
       "      <td>30</td>\n",
       "      <td>0</td>\n",
       "      <td>150000</td>\n",
       "      <td>1.0</td>\n",
       "      <td>137</td>\n",
       "      <td>1</td>\n",
       "      <td>1</td>\n",
       "      <td>245</td>\n",
       "      <td>0</td>\n",
       "    </tr>\n",
       "  </tbody>\n",
       "</table>\n",
       "<p>275 rows × 13 columns</p>\n",
       "</div>"
      ],
      "text/plain": [
       "     age  anaemia  creatinine_phosphokinase  diabetes  ejection_fraction  \\\n",
       "0     75        0                       582         0                 20   \n",
       "1     55        0                      7861         0                 38   \n",
       "2     65        0                       146         0                 20   \n",
       "3     50        1                       111         0                 20   \n",
       "4     65        1                       160         1                 20   \n",
       "..   ...      ...                       ...       ...                ...   \n",
       "270   44        0                       582         1                 30   \n",
       "271   51        0                       582         1                 40   \n",
       "272   67        0                       213         0                 38   \n",
       "273   42        0                        64         0                 40   \n",
       "274   60        1                       257         1                 30   \n",
       "\n",
       "     high_blood_pressure  platelets  serum_creatinine  serum_sodium  sex  \\\n",
       "0                      1     265000               1.9           130    1   \n",
       "1                      0     263358               1.1           136    1   \n",
       "2                      0     162000               1.3           129    1   \n",
       "3                      0     210000               1.9           137    1   \n",
       "4                      0     327000               2.7           116    0   \n",
       "..                   ...        ...               ...           ...  ...   \n",
       "270                    1     263358               1.6           130    1   \n",
       "271                    0     221000               0.9           134    0   \n",
       "272                    0     215000               1.2           133    0   \n",
       "273                    0     189000               0.7           140    1   \n",
       "274                    0     150000               1.0           137    1   \n",
       "\n",
       "     smoking  time  target  \n",
       "0          0     4       1  \n",
       "1          0     6       1  \n",
       "2          1     7       1  \n",
       "3          0     7       1  \n",
       "4          0     8       1  \n",
       "..       ...   ...     ...  \n",
       "270        1   244       0  \n",
       "271        0   244       0  \n",
       "272        0   245       0  \n",
       "273        0   245       0  \n",
       "274        1   245       0  \n",
       "\n",
       "[275 rows x 13 columns]"
      ]
     },
     "execution_count": 20,
     "metadata": {},
     "output_type": "execute_result"
    }
   ],
   "source": [
    "df_train = df_train(275)\n",
    "#print(df_train)\n",
    "df_train"
   ]
  },
  {
   "cell_type": "code",
   "execution_count": 60,
   "metadata": {},
   "outputs": [],
   "source": [
    "#df_test = df_test(25)\n",
    "#df_test"
   ]
  },
  {
   "cell_type": "markdown",
   "metadata": {},
   "source": [
    "# Creating Generative Bayesian model"
   ]
  },
  {
   "cell_type": "code",
   "execution_count": 22,
   "metadata": {},
   "outputs": [],
   "source": [
    "# Split predictors variables(x) and target variable(y)\n",
    "\n",
    "x_real = df_train.drop('target', axis=1)\n",
    "y_real = df_train['target']"
   ]
  },
  {
   "cell_type": "code",
   "execution_count": 23,
   "metadata": {},
   "outputs": [],
   "source": [
    "# verify matrix \n",
    "x_shape = x_real.shape\n",
    "y_shape = y_real.shape\n",
    "\n",
    "#x_shape"
   ]
  },
  {
   "cell_type": "markdown",
   "metadata": {},
   "source": [
    "## Split data"
   ]
  },
  {
   "cell_type": "code",
   "execution_count": 45,
   "metadata": {},
   "outputs": [
    {
     "data": {
      "text/plain": [
       "(275, 5)"
      ]
     },
     "execution_count": 45,
     "metadata": {},
     "output_type": "execute_result"
    }
   ],
   "source": [
    "#binary data\n",
    "\n",
    "binary_data = x_real[['anaemia','diabetes','high_blood_pressure','sex','smoking']]\n",
    "\n",
    "# array only values\n",
    "binary_data_values = binary_data.values"
   ]
  },
  {
   "cell_type": "code",
   "execution_count": 47,
   "metadata": {},
   "outputs": [],
   "source": [
    "#numeric data\n",
    "\n",
    "numeric_data = x_real[['age','creatinine_phosphokinase','ejection_fraction','platelets','serum_creatinine','serum_sodium','time']]\n",
    "\n",
    "# array only values\n",
    "numeric_data_values = numeric_data.values"
   ]
  },
  {
   "cell_type": "code",
   "execution_count": 48,
   "metadata": {},
   "outputs": [
    {
     "name": "stdout",
     "output_type": "stream",
     "text": [
      "0      1\n",
      "1      1\n",
      "2      1\n",
      "3      1\n",
      "4      1\n",
      "      ..\n",
      "270    0\n",
      "271    0\n",
      "272    0\n",
      "273    0\n",
      "274    0\n",
      "Name: target, Length: 275, dtype: int64\n"
     ]
    }
   ],
   "source": [
    "# target variable\n",
    "y_target = y_real\n",
    "print(y_target)"
   ]
  },
  {
   "cell_type": "markdown",
   "metadata": {},
   "source": [
    "#### Normal model bayesian\n",
    "with pm.Model() as generative_model:\n",
    "    x = pm.Normal('x', mu=x_real.mean(), sd=1.0, shape=(275, 12))\n",
    "    x_sintetico = pm.Normal('x_sintetico', mu=x, sd=1.0, shape=(275,12))\n",
    "    \n",
    "    y = pm.Normal('y', mu=y_real.mean(), sd=1.0, shape=(275))\n",
    "    y_sintetico = pm.Normal('y_sintetico', mu=y, sd=1.0, shape=(275))"
   ]
  },
  {
   "cell_type": "code",
   "execution_count": 54,
   "metadata": {},
   "outputs": [],
   "source": [
    "with pm.Model() as generative_model:\n",
    "    x_binaria = pm.Bernoulli('x_binaria',p=binary_data, shape=binary_data_values.shape, observed=binary_data)\n",
    "    x_numeric = pm.HalfNormal('x_numeric',sd=1, shape=numeric_data_values.shape)\n",
    "    y_target = pm.Bernoulli('y_target',p=y_target, shape=y_target.shape, observed=y_target)"
   ]
  },
  {
   "cell_type": "code",
   "execution_count": 112,
   "metadata": {},
   "outputs": [
    {
     "name": "stderr",
     "output_type": "stream",
     "text": [
      "/home/stefy/anaconda3/envs/ml-env/lib/python3.7/site-packages/deprecat/classic.py:215: FutureWarning: In v4.0, pm.sample will return an `arviz.InferenceData` object instead of a `MultiTrace` by default. You can pass return_inferencedata=True or return_inferencedata=False to be safe and silence this warning.\n",
      "  return wrapped_(*args_, **kwargs_)\n",
      "Auto-assigning NUTS sampler...\n",
      "Initializing NUTS using jitter+adapt_diag...\n",
      "Multiprocess sampling (4 chains in 4 jobs)\n",
      "NUTS: [y_sintetico, y, x_sintetico, x]\n"
     ]
    },
    {
     "data": {
      "text/html": [
       "\n",
       "<style>\n",
       "    /* Turns off some styling */\n",
       "    progress {\n",
       "        /* gets rid of default border in Firefox and Opera. */\n",
       "        border: none;\n",
       "        /* Needs to be in here for Safari polyfill so background images work as expected. */\n",
       "        background-size: auto;\n",
       "    }\n",
       "    progress:not([value]), progress:not([value])::-webkit-progress-bar {\n",
       "        background: repeating-linear-gradient(45deg, #7e7e7e, #7e7e7e 10px, #5c5c5c 10px, #5c5c5c 20px);\n",
       "    }\n",
       "    .progress-bar-interrupted, .progress-bar-interrupted::-webkit-progress-bar {\n",
       "        background: #F44336;\n",
       "    }\n",
       "</style>\n"
      ],
      "text/plain": [
       "<IPython.core.display.HTML object>"
      ]
     },
     "metadata": {},
     "output_type": "display_data"
    },
    {
     "data": {
      "text/html": [
       "\n",
       "    <div>\n",
       "      <progress value='8000' class='' max='8000' style='width:300px; height:20px; vertical-align: middle;'></progress>\n",
       "      100.00% [8000/8000 00:39&lt;00:00 Sampling 4 chains, 0 divergences]\n",
       "    </div>\n",
       "    "
      ],
      "text/plain": [
       "<IPython.core.display.HTML object>"
      ]
     },
     "metadata": {},
     "output_type": "display_data"
    },
    {
     "name": "stderr",
     "output_type": "stream",
     "text": [
      "Sampling 4 chains for 1_000 tune and 1_000 draw iterations (4_000 + 4_000 draws total) took 40 seconds.\n"
     ]
    }
   ],
   "source": [
    "# generating \n",
    "with generative_model:\n",
    "    samplers = pm.sample(1000, tune=1000)"
   ]
  },
  {
   "cell_type": "code",
   "execution_count": 113,
   "metadata": {},
   "outputs": [],
   "source": [
    "x_sintetico_generado = samplers['x_sintetico']\n",
    "y_sintetico_generado = samplers['y_sintetico']"
   ]
  },
  {
   "cell_type": "code",
   "execution_count": 114,
   "metadata": {
    "scrolled": true
   },
   "outputs": [
    {
     "data": {
      "text/plain": [
       "array([[[ 6.12602803e+01,  1.52104954e+00,  5.68455943e+02, ...,\n",
       "          8.37519025e-01,  1.15334354e+00,  1.18721155e+02],\n",
       "        [ 6.01313737e+01,  2.31218801e+00,  5.64890884e+02, ...,\n",
       "          1.80868009e+00,  3.84564288e-01,  1.17056574e+02],\n",
       "        [ 6.16733511e+01,  5.09753933e-01,  5.66374374e+02, ...,\n",
       "          2.37728669e+00, -1.37395038e+00,  1.18596658e+02],\n",
       "        ...,\n",
       "        [ 6.09836542e+01,  1.52983862e+00,  5.68253602e+02, ...,\n",
       "         -1.09370409e+00,  5.91037540e-01,  1.19118303e+02],\n",
       "        [ 5.94875046e+01,  1.10278213e+00,  5.67258222e+02, ...,\n",
       "         -1.63863796e-01,  1.08804274e+00,  1.18111559e+02],\n",
       "        [ 6.38170538e+01, -1.34835004e-01,  5.65805219e+02, ...,\n",
       "          2.49122797e+00,  1.63700687e+00,  1.19672159e+02]],\n",
       "\n",
       "       [[ 6.17378705e+01,  1.48791096e+00,  5.69083931e+02, ...,\n",
       "          2.09311608e+00,  2.27163979e+00,  1.19254808e+02],\n",
       "        [ 5.97153748e+01,  1.91802230e+00,  5.65680983e+02, ...,\n",
       "          1.83414434e+00,  7.20976787e-01,  1.16722211e+02],\n",
       "        [ 6.20031293e+01,  1.40272560e-01,  5.66418223e+02, ...,\n",
       "          2.19044998e+00, -1.93201898e+00,  1.18948388e+02],\n",
       "        ...,\n",
       "        [ 6.19838397e+01,  1.81400900e+00,  5.68077734e+02, ...,\n",
       "         -4.81573027e-01,  5.51951340e-01,  1.19561466e+02],\n",
       "        [ 6.04562218e+01,  1.30109516e+00,  5.68093518e+02, ...,\n",
       "          2.11459608e-01,  4.98221242e-01,  1.17864342e+02],\n",
       "        [ 6.32502726e+01,  7.11715082e-01,  5.66608919e+02, ...,\n",
       "          2.70152657e+00,  1.10393453e+00,  1.19823295e+02]],\n",
       "\n",
       "       [[ 5.90344273e+01,  3.05656508e-02,  5.66605639e+02, ...,\n",
       "          1.76509019e-01, -1.50167797e+00,  1.18514717e+02],\n",
       "        [ 6.21057456e+01,  2.23590807e+00,  5.67851470e+02, ...,\n",
       "         -3.44110893e-01,  2.23920098e+00,  1.19087186e+02],\n",
       "        [ 5.99123581e+01, -3.87063698e-01,  5.65972688e+02, ...,\n",
       "          1.26027466e+00,  5.32783382e-02,  1.19338816e+02],\n",
       "        ...,\n",
       "        [ 6.01462656e+01, -9.71522437e-01,  5.63941051e+02, ...,\n",
       "          5.51790115e-01, -3.02985276e+00,  1.21901398e+02],\n",
       "        [ 5.95334927e+01,  2.30812234e+00,  5.66755353e+02, ...,\n",
       "          1.80743825e+00,  1.66486734e+00,  1.19058727e+02],\n",
       "        [ 6.25650182e+01,  7.13735262e-01,  5.67201437e+02, ...,\n",
       "          1.31011385e+00,  2.90520792e-01,  1.20292012e+02]],\n",
       "\n",
       "       ...,\n",
       "\n",
       "       [[ 6.00980747e+01, -1.61172029e+00,  5.69032510e+02, ...,\n",
       "          1.08551823e+00, -6.50212531e-01,  1.18717797e+02],\n",
       "        [ 6.12193553e+01,  3.56288375e-01,  5.68084188e+02, ...,\n",
       "          4.83778355e-01, -1.28313085e+00,  1.18517984e+02],\n",
       "        [ 6.18705686e+01,  4.22790741e+00,  5.68066960e+02, ...,\n",
       "         -1.17479038e+00,  4.77127059e-01,  1.17943702e+02],\n",
       "        ...,\n",
       "        [ 6.02243080e+01,  1.27481291e-01,  5.67237505e+02, ...,\n",
       "          2.50799949e+00, -3.36636282e-01,  1.21793477e+02],\n",
       "        [ 6.08260528e+01,  1.22566061e+00,  5.66358736e+02, ...,\n",
       "          1.51514843e+00,  2.68493334e-02,  1.17459095e+02],\n",
       "        [ 6.03126561e+01,  1.42868055e+00,  5.67634260e+02, ...,\n",
       "          4.46363038e-01,  1.31596918e+00,  1.19778721e+02]],\n",
       "\n",
       "       [[ 6.08954885e+01,  3.35803757e+00,  5.67630287e+02, ...,\n",
       "          7.76833752e-01,  1.53528229e+00,  1.18358180e+02],\n",
       "        [ 6.26626751e+01,  8.60391504e-02,  5.65667986e+02, ...,\n",
       "          1.26415631e+00, -4.86541398e-02,  1.19009465e+02],\n",
       "        [ 5.92296299e+01, -2.68689742e+00,  5.67031789e+02, ...,\n",
       "          2.70791814e+00,  9.01962361e-01,  1.20904547e+02],\n",
       "        ...,\n",
       "        [ 6.30569726e+01, -6.46866806e-01,  5.66795815e+02, ...,\n",
       "         -2.19937737e+00, -1.28513214e+00,  1.16515296e+02],\n",
       "        [ 5.93994608e+01, -1.60653718e+00,  5.68579417e+02, ...,\n",
       "          8.16073694e-01,  9.96178408e-01,  1.20831281e+02],\n",
       "        [ 6.19693408e+01,  9.42792214e-02,  5.69729995e+02, ...,\n",
       "          4.97522059e-01,  1.42748577e+00,  1.16192821e+02]],\n",
       "\n",
       "       [[ 6.20158729e+01, -2.98665304e+00,  5.67018270e+02, ...,\n",
       "         -2.65944069e-01, -2.11829149e+00,  1.20002917e+02],\n",
       "        [ 5.87937499e+01, -1.13192347e-01,  5.68920733e+02, ...,\n",
       "         -3.49223538e-01,  1.20694214e+00,  1.20004042e+02],\n",
       "        [ 6.33277458e+01,  3.65947183e+00,  5.67305372e+02, ...,\n",
       "         -1.52145916e+00,  7.14103367e-01,  1.18989142e+02],\n",
       "        ...,\n",
       "        [ 5.98737481e+01,  3.16830948e-01,  5.67730921e+02, ...,\n",
       "          3.71544075e+00,  2.02014377e+00,  1.21403722e+02],\n",
       "        [ 6.35212976e+01,  1.63383272e+00,  5.65474187e+02, ...,\n",
       "         -1.05826443e-01, -6.54900477e-01,  1.18443622e+02],\n",
       "        [ 6.12693596e+01,  7.11572655e-01,  5.64592506e+02, ...,\n",
       "          1.63271813e+00,  3.18020289e-02,  1.21326354e+02]]])"
      ]
     },
     "execution_count": 114,
     "metadata": {},
     "output_type": "execute_result"
    }
   ],
   "source": [
    "x_sintetico_generado"
   ]
  },
  {
   "cell_type": "code",
   "execution_count": 40,
   "metadata": {},
   "outputs": [
    {
     "data": {
      "text/html": [
       "<div>\n",
       "<style scoped>\n",
       "    .dataframe tbody tr th:only-of-type {\n",
       "        vertical-align: middle;\n",
       "    }\n",
       "\n",
       "    .dataframe tbody tr th {\n",
       "        vertical-align: top;\n",
       "    }\n",
       "\n",
       "    .dataframe thead th {\n",
       "        text-align: right;\n",
       "    }\n",
       "</style>\n",
       "<table border=\"1\" class=\"dataframe\">\n",
       "  <thead>\n",
       "    <tr style=\"text-align: right;\">\n",
       "      <th></th>\n",
       "      <th>age</th>\n",
       "      <th>anaemia</th>\n",
       "      <th>creatinine_phosphokinase</th>\n",
       "      <th>diabetes</th>\n",
       "      <th>ejection_fraction</th>\n",
       "      <th>high_blood_pressure</th>\n",
       "      <th>platelets</th>\n",
       "      <th>serum_creatinine</th>\n",
       "      <th>serum_sodium</th>\n",
       "      <th>sex</th>\n",
       "      <th>smoking</th>\n",
       "      <th>time</th>\n",
       "    </tr>\n",
       "  </thead>\n",
       "  <tbody>\n",
       "    <tr>\n",
       "      <th>0</th>\n",
       "      <td>60.208068</td>\n",
       "      <td>0.142342</td>\n",
       "      <td>566.916569</td>\n",
       "      <td>-0.368208</td>\n",
       "      <td>41.186522</td>\n",
       "      <td>0.183256</td>\n",
       "      <td>261119.330661</td>\n",
       "      <td>2.616543</td>\n",
       "      <td>136.993542</td>\n",
       "      <td>-1.217449</td>\n",
       "      <td>0.227919</td>\n",
       "      <td>120.018485</td>\n",
       "    </tr>\n",
       "    <tr>\n",
       "      <th>1</th>\n",
       "      <td>62.566816</td>\n",
       "      <td>-1.326065</td>\n",
       "      <td>568.620833</td>\n",
       "      <td>-0.387803</td>\n",
       "      <td>38.943685</td>\n",
       "      <td>0.440658</td>\n",
       "      <td>261122.840841</td>\n",
       "      <td>1.904681</td>\n",
       "      <td>135.550406</td>\n",
       "      <td>-0.086672</td>\n",
       "      <td>3.996358</td>\n",
       "      <td>119.243160</td>\n",
       "    </tr>\n",
       "    <tr>\n",
       "      <th>2</th>\n",
       "      <td>61.846654</td>\n",
       "      <td>0.108774</td>\n",
       "      <td>568.379629</td>\n",
       "      <td>-0.392232</td>\n",
       "      <td>37.287571</td>\n",
       "      <td>-1.989640</td>\n",
       "      <td>261122.710992</td>\n",
       "      <td>0.071295</td>\n",
       "      <td>135.791962</td>\n",
       "      <td>0.236606</td>\n",
       "      <td>-1.554355</td>\n",
       "      <td>119.236261</td>\n",
       "    </tr>\n",
       "    <tr>\n",
       "      <th>3</th>\n",
       "      <td>63.346247</td>\n",
       "      <td>-0.773751</td>\n",
       "      <td>567.339842</td>\n",
       "      <td>-0.218774</td>\n",
       "      <td>39.121180</td>\n",
       "      <td>-1.535347</td>\n",
       "      <td>261120.923899</td>\n",
       "      <td>1.254420</td>\n",
       "      <td>135.740399</td>\n",
       "      <td>-1.242729</td>\n",
       "      <td>0.453695</td>\n",
       "      <td>118.679505</td>\n",
       "    </tr>\n",
       "    <tr>\n",
       "      <th>4</th>\n",
       "      <td>62.103876</td>\n",
       "      <td>1.142629</td>\n",
       "      <td>568.844970</td>\n",
       "      <td>-0.517234</td>\n",
       "      <td>38.750496</td>\n",
       "      <td>1.294688</td>\n",
       "      <td>261121.338449</td>\n",
       "      <td>0.851607</td>\n",
       "      <td>136.392517</td>\n",
       "      <td>1.052513</td>\n",
       "      <td>-1.056577</td>\n",
       "      <td>119.278451</td>\n",
       "    </tr>\n",
       "    <tr>\n",
       "      <th>...</th>\n",
       "      <td>...</td>\n",
       "      <td>...</td>\n",
       "      <td>...</td>\n",
       "      <td>...</td>\n",
       "      <td>...</td>\n",
       "      <td>...</td>\n",
       "      <td>...</td>\n",
       "      <td>...</td>\n",
       "      <td>...</td>\n",
       "      <td>...</td>\n",
       "      <td>...</td>\n",
       "      <td>...</td>\n",
       "    </tr>\n",
       "    <tr>\n",
       "      <th>1099995</th>\n",
       "      <td>59.685802</td>\n",
       "      <td>3.096356</td>\n",
       "      <td>568.984631</td>\n",
       "      <td>-0.258897</td>\n",
       "      <td>36.384373</td>\n",
       "      <td>-1.275860</td>\n",
       "      <td>261122.824247</td>\n",
       "      <td>3.937308</td>\n",
       "      <td>137.177204</td>\n",
       "      <td>0.983517</td>\n",
       "      <td>1.469569</td>\n",
       "      <td>116.574717</td>\n",
       "    </tr>\n",
       "    <tr>\n",
       "      <th>1099996</th>\n",
       "      <td>59.324731</td>\n",
       "      <td>-0.587094</td>\n",
       "      <td>566.134011</td>\n",
       "      <td>0.214621</td>\n",
       "      <td>39.610048</td>\n",
       "      <td>-1.284857</td>\n",
       "      <td>261121.344425</td>\n",
       "      <td>2.260907</td>\n",
       "      <td>137.216554</td>\n",
       "      <td>2.730124</td>\n",
       "      <td>1.183572</td>\n",
       "      <td>120.293992</td>\n",
       "    </tr>\n",
       "    <tr>\n",
       "      <th>1099997</th>\n",
       "      <td>62.110963</td>\n",
       "      <td>1.133512</td>\n",
       "      <td>569.027333</td>\n",
       "      <td>-2.148547</td>\n",
       "      <td>39.404680</td>\n",
       "      <td>2.120052</td>\n",
       "      <td>261122.005993</td>\n",
       "      <td>1.147622</td>\n",
       "      <td>136.416707</td>\n",
       "      <td>-0.021786</td>\n",
       "      <td>2.881537</td>\n",
       "      <td>117.710310</td>\n",
       "    </tr>\n",
       "    <tr>\n",
       "      <th>1099998</th>\n",
       "      <td>59.724944</td>\n",
       "      <td>1.492129</td>\n",
       "      <td>567.832387</td>\n",
       "      <td>1.605508</td>\n",
       "      <td>38.161033</td>\n",
       "      <td>-0.366150</td>\n",
       "      <td>261122.109752</td>\n",
       "      <td>1.007190</td>\n",
       "      <td>135.812215</td>\n",
       "      <td>1.605936</td>\n",
       "      <td>-0.433749</td>\n",
       "      <td>118.232693</td>\n",
       "    </tr>\n",
       "    <tr>\n",
       "      <th>1099999</th>\n",
       "      <td>59.592272</td>\n",
       "      <td>-0.893715</td>\n",
       "      <td>566.303952</td>\n",
       "      <td>-0.220760</td>\n",
       "      <td>37.875724</td>\n",
       "      <td>2.132761</td>\n",
       "      <td>261120.779777</td>\n",
       "      <td>-0.212958</td>\n",
       "      <td>135.949483</td>\n",
       "      <td>2.031290</td>\n",
       "      <td>2.649565</td>\n",
       "      <td>120.804104</td>\n",
       "    </tr>\n",
       "  </tbody>\n",
       "</table>\n",
       "<p>1100000 rows × 12 columns</p>\n",
       "</div>"
      ],
      "text/plain": [
       "               age   anaemia  creatinine_phosphokinase  diabetes  \\\n",
       "0        60.208068  0.142342                566.916569 -0.368208   \n",
       "1        62.566816 -1.326065                568.620833 -0.387803   \n",
       "2        61.846654  0.108774                568.379629 -0.392232   \n",
       "3        63.346247 -0.773751                567.339842 -0.218774   \n",
       "4        62.103876  1.142629                568.844970 -0.517234   \n",
       "...            ...       ...                       ...       ...   \n",
       "1099995  59.685802  3.096356                568.984631 -0.258897   \n",
       "1099996  59.324731 -0.587094                566.134011  0.214621   \n",
       "1099997  62.110963  1.133512                569.027333 -2.148547   \n",
       "1099998  59.724944  1.492129                567.832387  1.605508   \n",
       "1099999  59.592272 -0.893715                566.303952 -0.220760   \n",
       "\n",
       "         ejection_fraction  high_blood_pressure      platelets  \\\n",
       "0                41.186522             0.183256  261119.330661   \n",
       "1                38.943685             0.440658  261122.840841   \n",
       "2                37.287571            -1.989640  261122.710992   \n",
       "3                39.121180            -1.535347  261120.923899   \n",
       "4                38.750496             1.294688  261121.338449   \n",
       "...                    ...                  ...            ...   \n",
       "1099995          36.384373            -1.275860  261122.824247   \n",
       "1099996          39.610048            -1.284857  261121.344425   \n",
       "1099997          39.404680             2.120052  261122.005993   \n",
       "1099998          38.161033            -0.366150  261122.109752   \n",
       "1099999          37.875724             2.132761  261120.779777   \n",
       "\n",
       "         serum_creatinine  serum_sodium       sex   smoking        time  \n",
       "0                2.616543    136.993542 -1.217449  0.227919  120.018485  \n",
       "1                1.904681    135.550406 -0.086672  3.996358  119.243160  \n",
       "2                0.071295    135.791962  0.236606 -1.554355  119.236261  \n",
       "3                1.254420    135.740399 -1.242729  0.453695  118.679505  \n",
       "4                0.851607    136.392517  1.052513 -1.056577  119.278451  \n",
       "...                   ...           ...       ...       ...         ...  \n",
       "1099995          3.937308    137.177204  0.983517  1.469569  116.574717  \n",
       "1099996          2.260907    137.216554  2.730124  1.183572  120.293992  \n",
       "1099997          1.147622    136.416707 -0.021786  2.881537  117.710310  \n",
       "1099998          1.007190    135.812215  1.605936 -0.433749  118.232693  \n",
       "1099999         -0.212958    135.949483  2.031290  2.649565  120.804104  \n",
       "\n",
       "[1100000 rows x 12 columns]"
      ]
     },
     "execution_count": 40,
     "metadata": {},
     "output_type": "execute_result"
    }
   ],
   "source": [
    "x_sintetico_generado = x_sintetico_generado.reshape(-1, x_sintetico_generado.shape[-1])\n",
    "sintetico = pd.DataFrame(x_sintetico_generado, columns=['age','anaemia','creatinine_phosphokinase','diabetes','ejection_fraction','high_blood_pressure','platelets','serum_creatinine','serum_sodium','sex','smoking','time'])\n",
    "sintetico"
   ]
  },
  {
   "cell_type": "markdown",
   "metadata": {},
   "source": [
    "# Analyze generic data "
   ]
  },
  {
   "cell_type": "markdown",
   "metadata": {},
   "source": [
    "## predictor variables"
   ]
  },
  {
   "cell_type": "markdown",
   "metadata": {},
   "source": [
    "### Numeric data"
   ]
  },
  {
   "cell_type": "code",
   "execution_count": 115,
   "metadata": {},
   "outputs": [
    {
     "name": "stdout",
     "output_type": "stream",
     "text": [
      "El valor min age es 53.0537096662569\n",
      "El valor max age es 67.64806379774963\n"
     ]
    }
   ],
   "source": [
    "data_gen_min_value_age = data_gen_min_value('age')\n",
    "data_gen_max_value_age = data_gen_max_value('age')"
   ]
  },
  {
   "cell_type": "code",
   "execution_count": 116,
   "metadata": {},
   "outputs": [
    {
     "name": "stdout",
     "output_type": "stream",
     "text": [
      "El valor min creatinine_phosphokinase es 560.3266277006968\n",
      "El valor max creatinine_phosphokinase es 574.2960499722319\n"
     ]
    }
   ],
   "source": [
    "data_gen_min_value_creatine = data_gen_min_value('creatinine_phosphokinase')\n",
    "data_gen_max_value_creatine = data_gen_max_value('creatinine_phosphokinase')"
   ]
  },
  {
   "cell_type": "code",
   "execution_count": 117,
   "metadata": {},
   "outputs": [
    {
     "name": "stdout",
     "output_type": "stream",
     "text": [
      "El valor min ejection_fraction es 31.148686550497267\n",
      "El valor max ejection_fraction es 45.45155967290858\n"
     ]
    }
   ],
   "source": [
    "data_gen_min_value_ejection = data_gen_min_value('ejection_fraction')\n",
    "data_gen_max_value_ejection = data_gen_max_value('ejection_fraction')"
   ]
  },
  {
   "cell_type": "code",
   "execution_count": 118,
   "metadata": {},
   "outputs": [
    {
     "name": "stdout",
     "output_type": "stream",
     "text": [
      "El valor min platelets es 261113.33859230817\n",
      "El valor max platelets es 261128.060138904\n"
     ]
    }
   ],
   "source": [
    "data_gen_min_value_platelets = data_gen_min_value('platelets')\n",
    "data_gen_max_value_platelets = data_gen_max_value('platelets')"
   ]
  },
  {
   "cell_type": "code",
   "execution_count": 119,
   "metadata": {},
   "outputs": [
    {
     "name": "stdout",
     "output_type": "stream",
     "text": [
      "El valor min serum_creatinine es -5.395561495471548\n",
      "El valor max serum_creatinine es 8.619566090281234\n"
     ]
    }
   ],
   "source": [
    "data_gen_min_value_creatine = data_gen_min_value('serum_creatinine')\n",
    "data_gen_max_value_creatine = data_gen_max_value('serum_creatinine')"
   ]
  },
  {
   "cell_type": "code",
   "execution_count": 120,
   "metadata": {},
   "outputs": [
    {
     "name": "stdout",
     "output_type": "stream",
     "text": [
      "El valor min serum_sodium es 129.32813028548557\n",
      "El valor max serum_sodium es 143.66755550830155\n"
     ]
    }
   ],
   "source": [
    "data_gen_min_value_sodium = data_gen_min_value('serum_sodium')\n",
    "data_gen_max_value_sodium = data_gen_max_value('serum_sodium')"
   ]
  },
  {
   "cell_type": "code",
   "execution_count": 121,
   "metadata": {},
   "outputs": [
    {
     "name": "stdout",
     "output_type": "stream",
     "text": [
      "El valor min time es 112.35982669483076\n",
      "El valor max time es 126.19628930290399\n"
     ]
    }
   ],
   "source": [
    "data_gen_min_value_time = data_gen_min_value('time')\n",
    "data_gen_max_value_time = data_gen_max_value('time')"
   ]
  },
  {
   "cell_type": "markdown",
   "metadata": {},
   "source": [
    "### Binary data"
   ]
  },
  {
   "cell_type": "code",
   "execution_count": 122,
   "metadata": {},
   "outputs": [
    {
     "name": "stdout",
     "output_type": "stream",
     "text": [
      "El valor min anaemia es -6.298980452805405\n",
      "El valor max anaemia es 7.319510336736357\n"
     ]
    }
   ],
   "source": [
    "data_gen_min_value_anaemia = data_gen_min_value('anaemia')\n",
    "data_gen_max_value_anaemia = data_gen_max_value('anaemia')"
   ]
  },
  {
   "cell_type": "code",
   "execution_count": 123,
   "metadata": {},
   "outputs": [
    {
     "name": "stdout",
     "output_type": "stream",
     "text": [
      "El valor min diabetes es -6.27203182928784\n",
      "El valor max diabetes es 7.137233504617402\n"
     ]
    }
   ],
   "source": [
    "data_gen_min_value_diabetes = data_gen_min_value('diabetes')\n",
    "data_gen_max_value_diabetes = data_gen_max_value('diabetes')"
   ]
  },
  {
   "cell_type": "code",
   "execution_count": 124,
   "metadata": {},
   "outputs": [
    {
     "name": "stdout",
     "output_type": "stream",
     "text": [
      "El valor min high_blood_pressure es -6.409483925563197\n",
      "El valor max high_blood_pressure es 7.087408197845221\n"
     ]
    }
   ],
   "source": [
    "data_gen_min_value_pressure = data_gen_min_value('high_blood_pressure')\n",
    "data_gen_max_value_pressure = data_gen_max_value('high_blood_pressure')"
   ]
  },
  {
   "cell_type": "code",
   "execution_count": 125,
   "metadata": {},
   "outputs": [
    {
     "name": "stdout",
     "output_type": "stream",
     "text": [
      "El valor min sex es -6.082764628465771\n",
      "El valor max sex es 8.087629638977758\n"
     ]
    }
   ],
   "source": [
    "data_gen_min_value_sex = data_gen_min_value('sex')\n",
    "data_gen_max_value_sex = data_gen_max_value('sex')"
   ]
  },
  {
   "cell_type": "code",
   "execution_count": 126,
   "metadata": {},
   "outputs": [
    {
     "name": "stdout",
     "output_type": "stream",
     "text": [
      "El valor min smoking es -6.168863243509936\n",
      "El valor max smoking es 7.0874533091012655\n"
     ]
    }
   ],
   "source": [
    "data_gen_min_value_smoking = data_gen_min_value('smoking')\n",
    "data_gen_max_value_smoking = data_gen_max_value('smoking')"
   ]
  },
  {
   "cell_type": "markdown",
   "metadata": {},
   "source": [
    "## Target variable"
   ]
  },
  {
   "cell_type": "code",
   "execution_count": 27,
   "metadata": {},
   "outputs": [
    {
     "data": {
      "text/plain": [
       "array([[-1.43431473,  0.57013016, -1.88297449, ...,  3.7113344 ,\n",
       "         0.80205195, -1.53162098],\n",
       "       [ 0.1463058 ,  0.86717583,  2.06923482, ..., -2.39621955,\n",
       "         0.55928071,  0.51095486],\n",
       "       [-1.92643755, -1.55973937,  1.61326229, ..., -0.07923502,\n",
       "         0.64705781,  2.19021291],\n",
       "       ...,\n",
       "       [ 3.26041646,  3.16264139,  0.96100516, ...,  0.85012344,\n",
       "        -0.88635232, -0.89789306],\n",
       "       [-2.71983532, -2.17781292, -0.16297358, ..., -1.05363783,\n",
       "         0.83221564,  0.8024035 ],\n",
       "       [ 2.69893361,  2.29557481, -0.29156242, ...,  1.98380905,\n",
       "         0.37816809, -0.12404794]])"
      ]
     },
     "execution_count": 27,
     "metadata": {},
     "output_type": "execute_result"
    }
   ],
   "source": [
    "y_sintetico_generado"
   ]
  },
  {
   "cell_type": "code",
   "execution_count": 28,
   "metadata": {},
   "outputs": [
    {
     "data": {
      "text/html": [
       "<div>\n",
       "<style scoped>\n",
       "    .dataframe tbody tr th:only-of-type {\n",
       "        vertical-align: middle;\n",
       "    }\n",
       "\n",
       "    .dataframe tbody tr th {\n",
       "        vertical-align: top;\n",
       "    }\n",
       "\n",
       "    .dataframe thead th {\n",
       "        text-align: right;\n",
       "    }\n",
       "</style>\n",
       "<table border=\"1\" class=\"dataframe\">\n",
       "  <thead>\n",
       "    <tr style=\"text-align: right;\">\n",
       "      <th></th>\n",
       "      <th>target</th>\n",
       "    </tr>\n",
       "  </thead>\n",
       "  <tbody>\n",
       "    <tr>\n",
       "      <th>0</th>\n",
       "      <td>-1.434315</td>\n",
       "    </tr>\n",
       "    <tr>\n",
       "      <th>1</th>\n",
       "      <td>0.570130</td>\n",
       "    </tr>\n",
       "    <tr>\n",
       "      <th>2</th>\n",
       "      <td>-1.882974</td>\n",
       "    </tr>\n",
       "    <tr>\n",
       "      <th>3</th>\n",
       "      <td>1.673105</td>\n",
       "    </tr>\n",
       "    <tr>\n",
       "      <th>4</th>\n",
       "      <td>-2.973259</td>\n",
       "    </tr>\n",
       "    <tr>\n",
       "      <th>...</th>\n",
       "      <td>...</td>\n",
       "    </tr>\n",
       "    <tr>\n",
       "      <th>1099995</th>\n",
       "      <td>2.092998</td>\n",
       "    </tr>\n",
       "    <tr>\n",
       "      <th>1099996</th>\n",
       "      <td>1.584668</td>\n",
       "    </tr>\n",
       "    <tr>\n",
       "      <th>1099997</th>\n",
       "      <td>1.983809</td>\n",
       "    </tr>\n",
       "    <tr>\n",
       "      <th>1099998</th>\n",
       "      <td>0.378168</td>\n",
       "    </tr>\n",
       "    <tr>\n",
       "      <th>1099999</th>\n",
       "      <td>-0.124048</td>\n",
       "    </tr>\n",
       "  </tbody>\n",
       "</table>\n",
       "<p>1100000 rows × 1 columns</p>\n",
       "</div>"
      ],
      "text/plain": [
       "           target\n",
       "0       -1.434315\n",
       "1        0.570130\n",
       "2       -1.882974\n",
       "3        1.673105\n",
       "4       -2.973259\n",
       "...           ...\n",
       "1099995  2.092998\n",
       "1099996  1.584668\n",
       "1099997  1.983809\n",
       "1099998  0.378168\n",
       "1099999 -0.124048\n",
       "\n",
       "[1100000 rows x 1 columns]"
      ]
     },
     "execution_count": 28,
     "metadata": {},
     "output_type": "execute_result"
    }
   ],
   "source": [
    "#y_sintetico_generado = y_sintetico_generado.reshape(-1, y_sintetico_generado.shape[-1])\n",
    "y_sintetico_generado = y_sintetico_generado.flatten()\n",
    "sintetic = pd.DataFrame({'target': y_sintetico_generado})\n",
    "sintetic"
   ]
  },
  {
   "cell_type": "markdown",
   "metadata": {},
   "source": [
    "# Otro modelo generativo"
   ]
  },
  {
   "cell_type": "code",
   "execution_count": null,
   "metadata": {},
   "outputs": [],
   "source": [
    "# generating \n",
    "with generative_model:\n",
    "    samplers = pm.sample(1000, tune=1000)"
   ]
  }
 ],
 "metadata": {
  "kernelspec": {
   "display_name": "Python 3 (ipykernel)",
   "language": "python",
   "name": "python3"
  },
  "language_info": {
   "codemirror_mode": {
    "name": "ipython",
    "version": 3
   },
   "file_extension": ".py",
   "mimetype": "text/x-python",
   "name": "python",
   "nbconvert_exporter": "python",
   "pygments_lexer": "ipython3",
   "version": "3.7.7"
  }
 },
 "nbformat": 4,
 "nbformat_minor": 5
}
